{
  "nbformat": 4,
  "nbformat_minor": 0,
  "metadata": {
    "colab": {
      "provenance": [],
      "authorship_tag": "ABX9TyM3nt/E+4Uaa74yg4j7cCyr",
      "include_colab_link": true
    },
    "kernelspec": {
      "name": "python3",
      "display_name": "Python 3"
    },
    "language_info": {
      "name": "python"
    }
  },
  "cells": [
    {
      "cell_type": "markdown",
      "metadata": {
        "id": "view-in-github",
        "colab_type": "text"
      },
      "source": [
        "<a href=\"https://colab.research.google.com/github/tazar09/scrap_imobiliar/blob/main/new_scrap_imob%5B20-mar2024%5D.ipynb\" target=\"_parent\"><img src=\"https://colab.research.google.com/assets/colab-badge.svg\" alt=\"Open In Colab\"/></a>"
      ]
    },
    {
      "cell_type": "code",
      "execution_count": 1,
      "metadata": {
        "id": "R1XDsvaa6ldM"
      },
      "outputs": [],
      "source": [
        "from bs4 import BeautifulSoup\n",
        "import pandas as pd\n",
        "import requests\n",
        "import re\n",
        "import datetime\n",
        "from google.colab import files"
      ]
    },
    {
      "cell_type": "markdown",
      "source": [
        "# Sites to be searched"
      ],
      "metadata": {
        "id": "vI6dyhv460ki"
      }
    },
    {
      "cell_type": "code",
      "source": [
        "# Ziarul Financiar\n",
        "zf_url = 'https://www.zf.ro/'\n",
        "zf_response = requests.get(zf_url)\n",
        "zf_soup = BeautifulSoup(zf_response.content, 'html.parser')\n",
        "\n",
        "# Profit.ro\n",
        "profit_url = 'https://www.profit.ro/'\n",
        "profit_response = requests.get(profit_url)\n",
        "profit_soup = BeautifulSoup(profit_response.content, 'html.parser')\n",
        "\n",
        "# Economica.ro\n",
        "economica_url = 'https://www.economica.net/ultima-ora'\n",
        "economica_response = requests.get(economica_url)\n",
        "economica_soup = BeautifulSoup(economica_response.content, 'html.parser')"
      ],
      "metadata": {
        "id": "Rb7AI6Eq6x3b"
      },
      "execution_count": 2,
      "outputs": []
    },
    {
      "cell_type": "markdown",
      "source": [
        "# Keywords and exclusion terms."
      ],
      "metadata": {
        "id": "zljRhNqf8U3n"
      }
    },
    {
      "cell_type": "code",
      "source": [
        "#keywords\n",
        "root_keywords = ['chiri', 'imobiliar', 'rezidențial',\n",
        "       'Colliers', 'One', 'Dragoteanu', 'Euroest', 'Property', 'Forty', 'RealKom', 'Storia', 'Storia.ro', 'Angheloiu',\n",
        "       'estate', 'real-estate', 'REAL-ESTATE' 'residence',\n",
        "       'dezvoltator','ciment', 'beton', 'construcț', 'autorizaț', 'locuinț', 'apartament', 'case', 'euro/mp', 'cartier',\n",
        "       ]\n",
        "keywords = r'\\b\\w*(' + '|'.join(root_keywords) + r')\\w*\\b'\n",
        "\n",
        "#excludere\n",
        "root_excludere = ['Airbnb', 'Skanska', 'restaur', 'electronice', 'preziden', 'vaccin', 'Charles', 'comerț', 'software', 'serviciilor',\n",
        "                   'eroport', 'cafea', 'arom', 'reconstru', 'Petrom', 'OnePlus', 'CNAIR']\n",
        "\n",
        "exclusion = r'\\b\\w*(' + '|'.join(root_excludere) + r')\\w*\\b'\n"
      ],
      "metadata": {
        "id": "Pn0N7RqE7qFF"
      },
      "execution_count": 11,
      "outputs": []
    },
    {
      "cell_type": "markdown",
      "source": [
        "# Scraper class"
      ],
      "metadata": {
        "id": "i806fuLp9NN4"
      }
    },
    {
      "cell_type": "code",
      "source": [
        "class Scraper:\n",
        "  def __init__(self, site_url):\n",
        "    self.site_url = site_url\n",
        "\n",
        "  def scrap(self):\n",
        "\n",
        "    if 'zf' in self.site_url:\n",
        "      url_response = requests.get(self.site_url)\n",
        "      url_soup = BeautifulSoup(url_response.content, 'html.parser')\n",
        "      articles = []\n",
        "      links = []\n",
        "      for x in url_soup.find_all('h3'):\n",
        "        x_text = x.a.text\n",
        "        x_link = x.a.get('href')\n",
        "        articles.append(x_text)\n",
        "        links.append(x_link)\n",
        "      df = pd.DataFrame({'title': articles, 'link': links})\n",
        "      return df\n",
        "\n",
        "    elif 'profit' in self.site_url:\n",
        "      return 'profit'\n",
        "\n",
        "    else:\n",
        "      return 'economica'"
      ],
      "metadata": {
        "id": "XwCSac5N7qOl"
      },
      "execution_count": 27,
      "outputs": []
    },
    {
      "cell_type": "code",
      "source": [
        "scrap1 = Scraper(profit_url)\n",
        "df = scrap1.scrap()\n",
        "df"
      ],
      "metadata": {
        "id": "MdNWTPv27qVN"
      },
      "execution_count": 28,
      "outputs": []
    },
    {
      "cell_type": "code",
      "source": [
        "df.shape"
      ],
      "metadata": {
        "colab": {
          "base_uri": "https://localhost:8080/"
        },
        "id": "6PNExvEC_JXg",
        "outputId": "7038784c-3942-42f3-8ada-d0c8b306ec34"
      },
      "execution_count": 25,
      "outputs": [
        {
          "output_type": "execute_result",
          "data": {
            "text/plain": [
              "(128, 2)"
            ]
          },
          "metadata": {},
          "execution_count": 25
        }
      ]
    },
    {
      "cell_type": "code",
      "source": [],
      "metadata": {
        "id": "j9ZNOAO16yNL"
      },
      "execution_count": 3,
      "outputs": []
    },
    {
      "cell_type": "code",
      "source": [
        "df = pd.DataFrame({'title': lst, 'link': link})\n",
        "df.shape"
      ],
      "metadata": {
        "colab": {
          "base_uri": "https://localhost:8080/"
        },
        "id": "xma4ph5W6yTK",
        "outputId": "dc933cf9-0e88-4d9d-dd75-a9f4bb7db395"
      },
      "execution_count": 6,
      "outputs": [
        {
          "output_type": "execute_result",
          "data": {
            "text/plain": [
              "(128, 2)"
            ]
          },
          "metadata": {},
          "execution_count": 6
        }
      ]
    },
    {
      "cell_type": "code",
      "source": [
        "df.head()"
      ],
      "metadata": {
        "colab": {
          "base_uri": "https://localhost:8080/",
          "height": 206
        },
        "id": "U4l5hDRQ6yWx",
        "outputId": "df4853df-ca76-4dd6-82ff-a26149ae9855"
      },
      "execution_count": 7,
      "outputs": [
        {
          "output_type": "execute_result",
          "data": {
            "text/plain": [
              "                                               title  \\\n",
              "0  Prima ştire a lumii financiare: După decenii î...   \n",
              "1  Ţara strategiilor rupte de realitate: Tezele s...   \n",
              "2  ZF Investiţi în România!  Ştefan Radu Oprea, m...   \n",
              "3  Ce cred liderii de companii despre economie, r...   \n",
              "4  Cine este tânărul din România care a preluat c...   \n",
              "\n",
              "                                                link  \n",
              "0  /banci-si-asigurari/prima-stire-a-lumii-financ...  \n",
              "1  /companii/tara-strategiilor-rupte-de-realitate...  \n",
              "2  /zf-investiti-in-romania/zf-investiti-romania-...  \n",
              "3  /eveniment/ce-cred-liderii-de-companii-despre-...  \n",
              "4  https://www.businessmagazin.ro/actualitate/cin...  "
            ],
            "text/html": [
              "\n",
              "  <div id=\"df-d5605e37-c471-4f8e-98c8-f4acc0c7e6b9\" class=\"colab-df-container\">\n",
              "    <div>\n",
              "<style scoped>\n",
              "    .dataframe tbody tr th:only-of-type {\n",
              "        vertical-align: middle;\n",
              "    }\n",
              "\n",
              "    .dataframe tbody tr th {\n",
              "        vertical-align: top;\n",
              "    }\n",
              "\n",
              "    .dataframe thead th {\n",
              "        text-align: right;\n",
              "    }\n",
              "</style>\n",
              "<table border=\"1\" class=\"dataframe\">\n",
              "  <thead>\n",
              "    <tr style=\"text-align: right;\">\n",
              "      <th></th>\n",
              "      <th>title</th>\n",
              "      <th>link</th>\n",
              "    </tr>\n",
              "  </thead>\n",
              "  <tbody>\n",
              "    <tr>\n",
              "      <th>0</th>\n",
              "      <td>Prima ştire a lumii financiare: După decenii î...</td>\n",
              "      <td>/banci-si-asigurari/prima-stire-a-lumii-financ...</td>\n",
              "    </tr>\n",
              "    <tr>\n",
              "      <th>1</th>\n",
              "      <td>Ţara strategiilor rupte de realitate: Tezele s...</td>\n",
              "      <td>/companii/tara-strategiilor-rupte-de-realitate...</td>\n",
              "    </tr>\n",
              "    <tr>\n",
              "      <th>2</th>\n",
              "      <td>ZF Investiţi în România!  Ştefan Radu Oprea, m...</td>\n",
              "      <td>/zf-investiti-in-romania/zf-investiti-romania-...</td>\n",
              "    </tr>\n",
              "    <tr>\n",
              "      <th>3</th>\n",
              "      <td>Ce cred liderii de companii despre economie, r...</td>\n",
              "      <td>/eveniment/ce-cred-liderii-de-companii-despre-...</td>\n",
              "    </tr>\n",
              "    <tr>\n",
              "      <th>4</th>\n",
              "      <td>Cine este tânărul din România care a preluat c...</td>\n",
              "      <td>https://www.businessmagazin.ro/actualitate/cin...</td>\n",
              "    </tr>\n",
              "  </tbody>\n",
              "</table>\n",
              "</div>\n",
              "    <div class=\"colab-df-buttons\">\n",
              "\n",
              "  <div class=\"colab-df-container\">\n",
              "    <button class=\"colab-df-convert\" onclick=\"convertToInteractive('df-d5605e37-c471-4f8e-98c8-f4acc0c7e6b9')\"\n",
              "            title=\"Convert this dataframe to an interactive table.\"\n",
              "            style=\"display:none;\">\n",
              "\n",
              "  <svg xmlns=\"http://www.w3.org/2000/svg\" height=\"24px\" viewBox=\"0 -960 960 960\">\n",
              "    <path d=\"M120-120v-720h720v720H120Zm60-500h600v-160H180v160Zm220 220h160v-160H400v160Zm0 220h160v-160H400v160ZM180-400h160v-160H180v160Zm440 0h160v-160H620v160ZM180-180h160v-160H180v160Zm440 0h160v-160H620v160Z\"/>\n",
              "  </svg>\n",
              "    </button>\n",
              "\n",
              "  <style>\n",
              "    .colab-df-container {\n",
              "      display:flex;\n",
              "      gap: 12px;\n",
              "    }\n",
              "\n",
              "    .colab-df-convert {\n",
              "      background-color: #E8F0FE;\n",
              "      border: none;\n",
              "      border-radius: 50%;\n",
              "      cursor: pointer;\n",
              "      display: none;\n",
              "      fill: #1967D2;\n",
              "      height: 32px;\n",
              "      padding: 0 0 0 0;\n",
              "      width: 32px;\n",
              "    }\n",
              "\n",
              "    .colab-df-convert:hover {\n",
              "      background-color: #E2EBFA;\n",
              "      box-shadow: 0px 1px 2px rgba(60, 64, 67, 0.3), 0px 1px 3px 1px rgba(60, 64, 67, 0.15);\n",
              "      fill: #174EA6;\n",
              "    }\n",
              "\n",
              "    .colab-df-buttons div {\n",
              "      margin-bottom: 4px;\n",
              "    }\n",
              "\n",
              "    [theme=dark] .colab-df-convert {\n",
              "      background-color: #3B4455;\n",
              "      fill: #D2E3FC;\n",
              "    }\n",
              "\n",
              "    [theme=dark] .colab-df-convert:hover {\n",
              "      background-color: #434B5C;\n",
              "      box-shadow: 0px 1px 3px 1px rgba(0, 0, 0, 0.15);\n",
              "      filter: drop-shadow(0px 1px 2px rgba(0, 0, 0, 0.3));\n",
              "      fill: #FFFFFF;\n",
              "    }\n",
              "  </style>\n",
              "\n",
              "    <script>\n",
              "      const buttonEl =\n",
              "        document.querySelector('#df-d5605e37-c471-4f8e-98c8-f4acc0c7e6b9 button.colab-df-convert');\n",
              "      buttonEl.style.display =\n",
              "        google.colab.kernel.accessAllowed ? 'block' : 'none';\n",
              "\n",
              "      async function convertToInteractive(key) {\n",
              "        const element = document.querySelector('#df-d5605e37-c471-4f8e-98c8-f4acc0c7e6b9');\n",
              "        const dataTable =\n",
              "          await google.colab.kernel.invokeFunction('convertToInteractive',\n",
              "                                                    [key], {});\n",
              "        if (!dataTable) return;\n",
              "\n",
              "        const docLinkHtml = 'Like what you see? Visit the ' +\n",
              "          '<a target=\"_blank\" href=https://colab.research.google.com/notebooks/data_table.ipynb>data table notebook</a>'\n",
              "          + ' to learn more about interactive tables.';\n",
              "        element.innerHTML = '';\n",
              "        dataTable['output_type'] = 'display_data';\n",
              "        await google.colab.output.renderOutput(dataTable, element);\n",
              "        const docLink = document.createElement('div');\n",
              "        docLink.innerHTML = docLinkHtml;\n",
              "        element.appendChild(docLink);\n",
              "      }\n",
              "    </script>\n",
              "  </div>\n",
              "\n",
              "\n",
              "<div id=\"df-78ffdfde-6e73-4823-b334-3e4de67726b0\">\n",
              "  <button class=\"colab-df-quickchart\" onclick=\"quickchart('df-78ffdfde-6e73-4823-b334-3e4de67726b0')\"\n",
              "            title=\"Suggest charts\"\n",
              "            style=\"display:none;\">\n",
              "\n",
              "<svg xmlns=\"http://www.w3.org/2000/svg\" height=\"24px\"viewBox=\"0 0 24 24\"\n",
              "     width=\"24px\">\n",
              "    <g>\n",
              "        <path d=\"M19 3H5c-1.1 0-2 .9-2 2v14c0 1.1.9 2 2 2h14c1.1 0 2-.9 2-2V5c0-1.1-.9-2-2-2zM9 17H7v-7h2v7zm4 0h-2V7h2v10zm4 0h-2v-4h2v4z\"/>\n",
              "    </g>\n",
              "</svg>\n",
              "  </button>\n",
              "\n",
              "<style>\n",
              "  .colab-df-quickchart {\n",
              "      --bg-color: #E8F0FE;\n",
              "      --fill-color: #1967D2;\n",
              "      --hover-bg-color: #E2EBFA;\n",
              "      --hover-fill-color: #174EA6;\n",
              "      --disabled-fill-color: #AAA;\n",
              "      --disabled-bg-color: #DDD;\n",
              "  }\n",
              "\n",
              "  [theme=dark] .colab-df-quickchart {\n",
              "      --bg-color: #3B4455;\n",
              "      --fill-color: #D2E3FC;\n",
              "      --hover-bg-color: #434B5C;\n",
              "      --hover-fill-color: #FFFFFF;\n",
              "      --disabled-bg-color: #3B4455;\n",
              "      --disabled-fill-color: #666;\n",
              "  }\n",
              "\n",
              "  .colab-df-quickchart {\n",
              "    background-color: var(--bg-color);\n",
              "    border: none;\n",
              "    border-radius: 50%;\n",
              "    cursor: pointer;\n",
              "    display: none;\n",
              "    fill: var(--fill-color);\n",
              "    height: 32px;\n",
              "    padding: 0;\n",
              "    width: 32px;\n",
              "  }\n",
              "\n",
              "  .colab-df-quickchart:hover {\n",
              "    background-color: var(--hover-bg-color);\n",
              "    box-shadow: 0 1px 2px rgba(60, 64, 67, 0.3), 0 1px 3px 1px rgba(60, 64, 67, 0.15);\n",
              "    fill: var(--button-hover-fill-color);\n",
              "  }\n",
              "\n",
              "  .colab-df-quickchart-complete:disabled,\n",
              "  .colab-df-quickchart-complete:disabled:hover {\n",
              "    background-color: var(--disabled-bg-color);\n",
              "    fill: var(--disabled-fill-color);\n",
              "    box-shadow: none;\n",
              "  }\n",
              "\n",
              "  .colab-df-spinner {\n",
              "    border: 2px solid var(--fill-color);\n",
              "    border-color: transparent;\n",
              "    border-bottom-color: var(--fill-color);\n",
              "    animation:\n",
              "      spin 1s steps(1) infinite;\n",
              "  }\n",
              "\n",
              "  @keyframes spin {\n",
              "    0% {\n",
              "      border-color: transparent;\n",
              "      border-bottom-color: var(--fill-color);\n",
              "      border-left-color: var(--fill-color);\n",
              "    }\n",
              "    20% {\n",
              "      border-color: transparent;\n",
              "      border-left-color: var(--fill-color);\n",
              "      border-top-color: var(--fill-color);\n",
              "    }\n",
              "    30% {\n",
              "      border-color: transparent;\n",
              "      border-left-color: var(--fill-color);\n",
              "      border-top-color: var(--fill-color);\n",
              "      border-right-color: var(--fill-color);\n",
              "    }\n",
              "    40% {\n",
              "      border-color: transparent;\n",
              "      border-right-color: var(--fill-color);\n",
              "      border-top-color: var(--fill-color);\n",
              "    }\n",
              "    60% {\n",
              "      border-color: transparent;\n",
              "      border-right-color: var(--fill-color);\n",
              "    }\n",
              "    80% {\n",
              "      border-color: transparent;\n",
              "      border-right-color: var(--fill-color);\n",
              "      border-bottom-color: var(--fill-color);\n",
              "    }\n",
              "    90% {\n",
              "      border-color: transparent;\n",
              "      border-bottom-color: var(--fill-color);\n",
              "    }\n",
              "  }\n",
              "</style>\n",
              "\n",
              "  <script>\n",
              "    async function quickchart(key) {\n",
              "      const quickchartButtonEl =\n",
              "        document.querySelector('#' + key + ' button');\n",
              "      quickchartButtonEl.disabled = true;  // To prevent multiple clicks.\n",
              "      quickchartButtonEl.classList.add('colab-df-spinner');\n",
              "      try {\n",
              "        const charts = await google.colab.kernel.invokeFunction(\n",
              "            'suggestCharts', [key], {});\n",
              "      } catch (error) {\n",
              "        console.error('Error during call to suggestCharts:', error);\n",
              "      }\n",
              "      quickchartButtonEl.classList.remove('colab-df-spinner');\n",
              "      quickchartButtonEl.classList.add('colab-df-quickchart-complete');\n",
              "    }\n",
              "    (() => {\n",
              "      let quickchartButtonEl =\n",
              "        document.querySelector('#df-78ffdfde-6e73-4823-b334-3e4de67726b0 button');\n",
              "      quickchartButtonEl.style.display =\n",
              "        google.colab.kernel.accessAllowed ? 'block' : 'none';\n",
              "    })();\n",
              "  </script>\n",
              "</div>\n",
              "    </div>\n",
              "  </div>\n"
            ],
            "application/vnd.google.colaboratory.intrinsic+json": {
              "type": "dataframe",
              "variable_name": "df",
              "summary": "{\n  \"name\": \"df\",\n  \"rows\": 128,\n  \"fields\": [\n    {\n      \"column\": \"title\",\n      \"properties\": {\n        \"dtype\": \"string\",\n        \"num_unique_values\": 96,\n        \"samples\": [\n          \"Cei care conduc \\u0163ara, dar pe care nu-i cunoa\\u015fte nimeni. Cine conduce Agen\\u0163ia Na\\u0163ional\\u0103 pentru Pl\\u0103\\u0163i \\u015fi Inspec\\u0163ie Social\\u0103: Un director general \\u015fi patru \\u015fefi de direc\\u0163ii \",\n          \"ZF v\\u0103 prezint\\u0103 cine conduce Rom\\u00e2nia. Cei care conduc \\u0163ara, dar pe care nu-i cunoa\\u015fte nimeni. Azi, Autoritatea Vamal\\u0103 a Rom\\u00e2niei: un pre\\u015fedinte, un vicepre\\u015fedinte \\u015fi un secretar general\",\n          \"Comisia European\\u0103 anun\\u0163\\u0103 un nou pachet de m\\u0103suri ce scute\\u015fte micile ferme de controale de mediu\"\n        ],\n        \"semantic_type\": \"\",\n        \"description\": \"\"\n      }\n    },\n    {\n      \"column\": \"link\",\n      \"properties\": {\n        \"dtype\": \"string\",\n        \"num_unique_values\": 100,\n        \"samples\": [\n          \"/eveniment/zf-va-prezinta-cine-conduce-romania-cine-conduce-oficiul-national-de-22285445\",\n          \"/burse-fonduri-mutuale/bursa-prime-transaction-estimeaza-ca-randamentele-dividendelor-de-la-22296777\",\n          \"/companii/performanta-de-pe-calea-ferata-22296872\"\n        ],\n        \"semantic_type\": \"\",\n        \"description\": \"\"\n      }\n    }\n  ]\n}"
            }
          },
          "metadata": {},
          "execution_count": 7
        }
      ]
    },
    {
      "cell_type": "code",
      "source": [],
      "metadata": {
        "id": "W7HdkSpk7n58"
      },
      "execution_count": null,
      "outputs": []
    }
  ]
}