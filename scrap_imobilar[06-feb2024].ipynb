{
  "cells": [
    {
      "cell_type": "markdown",
      "metadata": {
        "id": "view-in-github",
        "colab_type": "text"
      },
      "source": [
        "<a href=\"https://colab.research.google.com/github/tazar09/scrap_imobiliar/blob/main/scrap_imobilar%5B06-feb2024%5D.ipynb\" target=\"_parent\"><img src=\"https://colab.research.google.com/assets/colab-badge.svg\" alt=\"Open In Colab\"/></a>"
      ]
    },
    {
      "cell_type": "code",
      "execution_count": null,
      "metadata": {
        "id": "oev2D6lJ5K7m"
      },
      "outputs": [],
      "source": [
        "from bs4 import BeautifulSoup\n",
        "import pandas as pd\n",
        "import requests\n",
        "# import nltk\n",
        "# from nltk.tokenize import word_tokenize\n",
        "# nltk.download('punkt')\n",
        "import re\n",
        "import datetime\n",
        "from google.colab import files"
      ]
    },
    {
      "cell_type": "code",
      "source": [
        "# sapun solid\n",
        "# pasta de dinti\n",
        "# bioderma\n",
        "# apa micerala\n",
        "# betisoare de urechi\n",
        "# SAPUN Lichid theo"
      ],
      "metadata": {
        "id": "Di9WH194kuj0"
      },
      "execution_count": null,
      "outputs": []
    },
    {
      "cell_type": "markdown",
      "metadata": {
        "id": "8kUPbl0ZjWzf"
      },
      "source": [
        "Request web-sites"
      ]
    },
    {
      "cell_type": "code",
      "execution_count": null,
      "metadata": {
        "id": "JXm5bK8C2Yza"
      },
      "outputs": [],
      "source": [
        "zf_url = 'https://www.zf.ro/'\n",
        "zf_response = requests.get(zf_url)\n",
        "zf_soup = BeautifulSoup(zf_response.content, 'html.parser')\n",
        "\n",
        "profit_url = 'https://www.profit.ro/'\n",
        "profit_response = requests.get(profit_url)\n",
        "profit_soup = BeautifulSoup(profit_response.content, 'html.parser')\n",
        "\n",
        "economica_url = 'https://www.economica.net/ultima-ora'\n",
        "economica_response = requests.get(economica_url)\n",
        "economica_soup = BeautifulSoup(economica_response.content, 'html.parser')"
      ]
    },
    {
      "cell_type": "markdown",
      "metadata": {
        "id": "pZ_eojrQEoXL"
      },
      "source": [
        "1. zf.ro"
      ]
    },
    {
      "cell_type": "code",
      "execution_count": null,
      "metadata": {
        "id": "vN5VATgi2Y8U"
      },
      "outputs": [],
      "source": [
        " lst = []\n",
        " link = []\n",
        " for x in zf_soup.find_all('h3'):\n",
        "   x_text = x.a.text\n",
        "   x_link = x.a.get('href')\n",
        "   lst.append(x_text)\n",
        "   link.append(x_link)"
      ]
    },
    {
      "cell_type": "code",
      "execution_count": null,
      "metadata": {
        "colab": {
          "base_uri": "https://localhost:8080/"
        },
        "id": "8s6DGxHV9zh5",
        "outputId": "f5fbd80c-672b-4470-bd34-0bf0db7de498"
      },
      "outputs": [
        {
          "output_type": "execute_result",
          "data": {
            "text/plain": [
              "(136, 2)"
            ]
          },
          "metadata": {},
          "execution_count": 5
        }
      ],
      "source": [
        "df = pd.DataFrame({'title': lst, 'link': link})\n",
        "df.shape"
      ]
    },
    {
      "cell_type": "code",
      "execution_count": null,
      "metadata": {
        "id": "hlQflA6G50w3"
      },
      "outputs": [],
      "source": [
        "df['link'] = 'zf.ro' + df['link']"
      ]
    },
    {
      "cell_type": "code",
      "execution_count": null,
      "metadata": {
        "colab": {
          "base_uri": "https://localhost:8080/",
          "height": 35
        },
        "id": "J_j8CRLm5pkB",
        "outputId": "8b2443f7-ad8f-4ecc-8a9b-5b0fc3f9ac05"
      },
      "outputs": [
        {
          "output_type": "execute_result",
          "data": {
            "text/plain": [
              "'zf.ro/business-international/una-dintre-cele-mai-vechi-firme-poloneze-si-germania-ultimele-atrase-22254937'"
            ],
            "application/vnd.google.colaboratory.intrinsic+json": {
              "type": "string"
            }
          },
          "metadata": {},
          "execution_count": 7
        }
      ],
      "source": [
        "df['link'][1]"
      ]
    },
    {
      "cell_type": "code",
      "execution_count": null,
      "metadata": {
        "id": "TuWtwXTVJr8W"
      },
      "outputs": [],
      "source": [
        "lst = ['chiri', 'imobiliar', 'rezidențial',\n",
        "       'Colliers', 'One', 'Dragoteanu', 'Euroest', 'Property', 'Forty', 'RealKom', 'Storia', 'Storia.ro', 'Angheloiu',\n",
        "       'estate', 'real-estate', 'REAL-ESTATE' 'residence',\n",
        "       'dezvoltator','ciment', 'beton', 'construcț', 'autorizaț', 'locuinț', 'apartament', 'case', 'euro/mp', 'cartier',\n",
        "       ]\n",
        "\n",
        "regex_imobiliare = r'\\b\\w*(?:' + '|'.join(lst) + r')\\w*\\b'"
      ]
    },
    {
      "cell_type": "code",
      "execution_count": null,
      "metadata": {
        "id": "EjvKPyYLG0hi"
      },
      "outputs": [],
      "source": [
        "def selector(x):\n",
        "  matches = re.findall(regex_imobiliare, x)\n",
        "  if matches:\n",
        "    return True\n",
        "  else:\n",
        "    return False"
      ]
    },
    {
      "cell_type": "code",
      "execution_count": null,
      "metadata": {
        "id": "zJOimedBMZh-"
      },
      "outputs": [],
      "source": [
        "df['new_check']=df['title'].apply(selector)"
      ]
    },
    {
      "cell_type": "code",
      "execution_count": null,
      "metadata": {
        "id": "hXyVel1XOzpb"
      },
      "outputs": [],
      "source": [
        "# numar_gasit = df['new_check'].value_counts()[1]\n",
        "# numar_gasit"
      ]
    },
    {
      "cell_type": "code",
      "execution_count": null,
      "metadata": {
        "id": "xWn_8BsROzs0"
      },
      "outputs": [],
      "source": [
        "df = df[df['new_check'] == True]"
      ]
    },
    {
      "cell_type": "code",
      "execution_count": null,
      "metadata": {
        "id": "G3Q7QowqOzy4"
      },
      "outputs": [],
      "source": [
        "excludere_words = ['Airbnb', 'Skanska', 'restaur', 'electronice', 'preziden', 'vaccin', 'Charles', 'comerț', 'software', 'serviciilor', 'eroport', 'cafea', 'arom', 'reconstru', 'Petrom', 'OnePlus', 'CNAIR']\n",
        "regex_excludere= r'\\b\\w*(?:' + '|'.join(excludere_words) + r')\\w*\\b'\n",
        "\n",
        "def excludere(x):\n",
        "  matches = re.findall(regex_excludere, x)\n",
        "  if matches:\n",
        "    return True\n",
        "  else:\n",
        "    return False"
      ]
    },
    {
      "cell_type": "code",
      "execution_count": null,
      "metadata": {
        "id": "JptOoEIGOz7-",
        "outputId": "1f058ac8-244c-48de-e027-37013ba23df4",
        "colab": {
          "base_uri": "https://localhost:8080/"
        }
      },
      "outputs": [
        {
          "output_type": "stream",
          "name": "stderr",
          "text": [
            "<ipython-input-14-aacbe12d722f>:1: SettingWithCopyWarning: \n",
            "A value is trying to be set on a copy of a slice from a DataFrame.\n",
            "Try using .loc[row_indexer,col_indexer] = value instead\n",
            "\n",
            "See the caveats in the documentation: https://pandas.pydata.org/pandas-docs/stable/user_guide/indexing.html#returning-a-view-versus-a-copy\n",
            "  df['excludere'] = df['title'].apply(excludere)\n"
          ]
        }
      ],
      "source": [
        "df['excludere'] = df['title'].apply(excludere)"
      ]
    },
    {
      "cell_type": "code",
      "execution_count": null,
      "metadata": {
        "id": "xaXJYdnNulZl"
      },
      "outputs": [],
      "source": [
        "df = df[df['excludere'] == False]"
      ]
    },
    {
      "cell_type": "code",
      "execution_count": null,
      "metadata": {
        "id": "mn-o1kfeo_PF"
      },
      "outputs": [],
      "source": [
        "df['drop'] = df['link'].str.extract(r'-(\\d+)$')"
      ]
    },
    {
      "cell_type": "code",
      "execution_count": null,
      "metadata": {
        "id": "2UKDVGtfo_tm"
      },
      "outputs": [],
      "source": [
        "df = df.drop_duplicates(subset = 'drop')"
      ]
    },
    {
      "cell_type": "markdown",
      "metadata": {
        "id": "iJsiBvjUKX9N"
      },
      "source": [
        "Add timedate to the scrapping"
      ]
    },
    {
      "cell_type": "code",
      "execution_count": null,
      "metadata": {
        "colab": {
          "base_uri": "https://localhost:8080/",
          "height": 35
        },
        "id": "LV-XrE5KMqhU",
        "outputId": "edf188be-ce47-44e6-a0e6-f508bcb15d31"
      },
      "outputs": [
        {
          "output_type": "execute_result",
          "data": {
            "text/plain": [
              "'06-02-2024'"
            ],
            "application/vnd.google.colaboratory.intrinsic+json": {
              "type": "string"
            }
          },
          "metadata": {},
          "execution_count": 18
        }
      ],
      "source": [
        "now = datetime.datetime.now()\n",
        "timestamp = now.strftime(\"%d-%m-%Y\")\n",
        "timestamp"
      ]
    },
    {
      "cell_type": "code",
      "execution_count": null,
      "metadata": {
        "id": "thnh59pmKXCt"
      },
      "outputs": [],
      "source": [
        "df['timestamp'] = timestamp\n",
        "df['idnumber'] = df['drop'] + df['timestamp'].str.replace('-', '')"
      ]
    },
    {
      "cell_type": "markdown",
      "metadata": {
        "id": "bYs-txa_MXLY"
      },
      "source": [
        "Make final df by appending"
      ]
    },
    {
      "cell_type": "code",
      "execution_count": null,
      "metadata": {
        "id": "txezge3_Mu63"
      },
      "outputs": [],
      "source": [
        "df_zf = df\n",
        "df_zf = pd.concat([df_zf, df], axis = 0)\n",
        "df_zf = df_zf.drop_duplicates('idnumber')\n"
      ]
    },
    {
      "cell_type": "code",
      "execution_count": null,
      "metadata": {
        "id": "tC76Vj16Z5AQ"
      },
      "outputs": [],
      "source": [
        "df_zf = df_zf.drop(['new_check', 'excludere'], axis = 1)"
      ]
    },
    {
      "cell_type": "markdown",
      "metadata": {
        "id": "wbnxPdelvZpN"
      },
      "source": [
        "----------------------------------------------------------------------------"
      ]
    },
    {
      "cell_type": "markdown",
      "metadata": {
        "id": "f6gZcOWdvVbn"
      },
      "source": [
        "2. profit.ro"
      ]
    },
    {
      "cell_type": "code",
      "execution_count": null,
      "metadata": {
        "id": "gobGbl4dvWyS"
      },
      "outputs": [],
      "source": []
    },
    {
      "cell_type": "code",
      "execution_count": null,
      "metadata": {
        "id": "aBs-ablNvX_9"
      },
      "outputs": [],
      "source": [
        "divs = profit_soup.find_all('div', class_ = 'row')\n",
        "div_2 = profit_soup.find_all('div', class_ = 'col-md-4')"
      ]
    },
    {
      "cell_type": "code",
      "execution_count": null,
      "metadata": {
        "id": "hRBlXeOnRyTG"
      },
      "outputs": [],
      "source": [
        "lst2 = []\n",
        "link2 = []\n",
        "\n",
        "for div in div_2:\n",
        "  a_tags = div.find_all('a')\n",
        "  for a in a_tags:\n",
        "    title = a.get('href')\n",
        "    text = a.text\n",
        "    lst2.append(title)\n",
        "    link2.append(text)"
      ]
    },
    {
      "cell_type": "code",
      "execution_count": null,
      "metadata": {
        "id": "p_qy8GJTSnXx"
      },
      "outputs": [],
      "source": [
        "df2 = pd.DataFrame({'link': lst2, 'title': link2})\n",
        "df2['check'] = df2['title'].str.strip() == ''"
      ]
    },
    {
      "cell_type": "code",
      "execution_count": null,
      "metadata": {
        "id": "DEpn9XWhXndX"
      },
      "outputs": [],
      "source": [
        "df2 = df2[df2['check'] == False].drop('check', axis = 1)"
      ]
    },
    {
      "cell_type": "code",
      "execution_count": null,
      "metadata": {
        "id": "VEpANAFcZDae"
      },
      "outputs": [],
      "source": [
        "df2['link'] = 'profit.ro' + df2['link']"
      ]
    },
    {
      "cell_type": "code",
      "execution_count": null,
      "metadata": {
        "id": "uB7YCZGTZrlY"
      },
      "outputs": [],
      "source": [
        "df2 = df2[['title', 'link']]"
      ]
    },
    {
      "cell_type": "code",
      "execution_count": null,
      "metadata": {
        "id": "B9339yNZSDCj"
      },
      "outputs": [],
      "source": [
        "df2['drop'] = df2['link'].str.extract(r'-(\\d+)$')"
      ]
    },
    {
      "cell_type": "code",
      "execution_count": null,
      "metadata": {
        "id": "p58VoYZQvX9C"
      },
      "outputs": [],
      "source": [
        "now2 = datetime.datetime.now()\n",
        "timestamp2 = now2.strftime('%d-%m-%Y')\n",
        "df2['timestamp'] = timestamp2"
      ]
    },
    {
      "cell_type": "code",
      "execution_count": null,
      "metadata": {
        "id": "b7sbwtG9vXy2"
      },
      "outputs": [],
      "source": [
        "df2['idnumber'] = df2['drop'] + df2['timestamp'].str.replace('-', '')"
      ]
    },
    {
      "cell_type": "code",
      "execution_count": null,
      "metadata": {
        "id": "wILd6t-NcKXs"
      },
      "outputs": [],
      "source": [
        "df2['new_check'] = df2['title'].apply(selector)"
      ]
    },
    {
      "cell_type": "code",
      "execution_count": null,
      "metadata": {
        "id": "5ixWnLabcdz-"
      },
      "outputs": [],
      "source": [
        "df_profit = df2[df2['new_check'] == True]"
      ]
    },
    {
      "cell_type": "code",
      "execution_count": null,
      "metadata": {
        "colab": {
          "base_uri": "https://localhost:8080/"
        },
        "id": "1ClDdaSk37yw",
        "outputId": "9fa79209-ce98-46a5-df05-359c91feb204"
      },
      "outputs": [
        {
          "output_type": "stream",
          "name": "stderr",
          "text": [
            "<ipython-input-33-6cb8c6796e34>:1: SettingWithCopyWarning: \n",
            "A value is trying to be set on a copy of a slice from a DataFrame.\n",
            "Try using .loc[row_indexer,col_indexer] = value instead\n",
            "\n",
            "See the caveats in the documentation: https://pandas.pydata.org/pandas-docs/stable/user_guide/indexing.html#returning-a-view-versus-a-copy\n",
            "  df_profit['excludere'] = df_profit['title'].apply(excludere)\n"
          ]
        }
      ],
      "source": [
        "df_profit['excludere'] = df_profit['title'].apply(excludere)\n",
        "df_profit = df_profit[df_profit['excludere'] == False]"
      ]
    },
    {
      "cell_type": "code",
      "execution_count": null,
      "metadata": {
        "id": "nhjdcBsF2Alw"
      },
      "outputs": [],
      "source": [
        "df_profit = df_profit.drop(['new_check', 'excludere'], axis = 1)"
      ]
    },
    {
      "cell_type": "code",
      "execution_count": null,
      "metadata": {
        "colab": {
          "base_uri": "https://localhost:8080/",
          "height": 143
        },
        "id": "hjciBMotcd28",
        "outputId": "e999106e-006d-4af0-9f31-bbee29622dc1"
      },
      "outputs": [
        {
          "output_type": "execute_result",
          "data": {
            "text/plain": [
              "                                                 title  \\\n",
              "38        Cum se construiesc noi cartiere rezidențiale   \n",
              "95   Vânzările rezidențiale ale One United Properti...   \n",
              "153  2024 începe într-o notă optimistă pentru dezvo...   \n",
              "\n",
              "                                                  link      drop   timestamp  \\\n",
              "38   profit.ro/povestile-bursei/cum-se-construiesc-...  21402196  06-02-2024   \n",
              "95   profit.ro/povesti-cu-profit/real-estate-constr...  21483987  06-02-2024   \n",
              "153  profit.ro/legal/2024-incepe-intr-o-nota-optimi...  21468978  06-02-2024   \n",
              "\n",
              "             idnumber  \n",
              "38   2140219606022024  \n",
              "95   2148398706022024  \n",
              "153  2146897806022024  "
            ],
            "text/html": [
              "\n",
              "  <div id=\"df-ed1dba24-b94b-4735-a7d5-b809f57f3b39\" class=\"colab-df-container\">\n",
              "    <div>\n",
              "<style scoped>\n",
              "    .dataframe tbody tr th:only-of-type {\n",
              "        vertical-align: middle;\n",
              "    }\n",
              "\n",
              "    .dataframe tbody tr th {\n",
              "        vertical-align: top;\n",
              "    }\n",
              "\n",
              "    .dataframe thead th {\n",
              "        text-align: right;\n",
              "    }\n",
              "</style>\n",
              "<table border=\"1\" class=\"dataframe\">\n",
              "  <thead>\n",
              "    <tr style=\"text-align: right;\">\n",
              "      <th></th>\n",
              "      <th>title</th>\n",
              "      <th>link</th>\n",
              "      <th>drop</th>\n",
              "      <th>timestamp</th>\n",
              "      <th>idnumber</th>\n",
              "    </tr>\n",
              "  </thead>\n",
              "  <tbody>\n",
              "    <tr>\n",
              "      <th>38</th>\n",
              "      <td>Cum se construiesc noi cartiere rezidențiale</td>\n",
              "      <td>profit.ro/povestile-bursei/cum-se-construiesc-...</td>\n",
              "      <td>21402196</td>\n",
              "      <td>06-02-2024</td>\n",
              "      <td>2140219606022024</td>\n",
              "    </tr>\n",
              "    <tr>\n",
              "      <th>95</th>\n",
              "      <td>Vânzările rezidențiale ale One United Properti...</td>\n",
              "      <td>profit.ro/povesti-cu-profit/real-estate-constr...</td>\n",
              "      <td>21483987</td>\n",
              "      <td>06-02-2024</td>\n",
              "      <td>2148398706022024</td>\n",
              "    </tr>\n",
              "    <tr>\n",
              "      <th>153</th>\n",
              "      <td>2024 începe într-o notă optimistă pentru dezvo...</td>\n",
              "      <td>profit.ro/legal/2024-incepe-intr-o-nota-optimi...</td>\n",
              "      <td>21468978</td>\n",
              "      <td>06-02-2024</td>\n",
              "      <td>2146897806022024</td>\n",
              "    </tr>\n",
              "  </tbody>\n",
              "</table>\n",
              "</div>\n",
              "    <div class=\"colab-df-buttons\">\n",
              "\n",
              "  <div class=\"colab-df-container\">\n",
              "    <button class=\"colab-df-convert\" onclick=\"convertToInteractive('df-ed1dba24-b94b-4735-a7d5-b809f57f3b39')\"\n",
              "            title=\"Convert this dataframe to an interactive table.\"\n",
              "            style=\"display:none;\">\n",
              "\n",
              "  <svg xmlns=\"http://www.w3.org/2000/svg\" height=\"24px\" viewBox=\"0 -960 960 960\">\n",
              "    <path d=\"M120-120v-720h720v720H120Zm60-500h600v-160H180v160Zm220 220h160v-160H400v160Zm0 220h160v-160H400v160ZM180-400h160v-160H180v160Zm440 0h160v-160H620v160ZM180-180h160v-160H180v160Zm440 0h160v-160H620v160Z\"/>\n",
              "  </svg>\n",
              "    </button>\n",
              "\n",
              "  <style>\n",
              "    .colab-df-container {\n",
              "      display:flex;\n",
              "      gap: 12px;\n",
              "    }\n",
              "\n",
              "    .colab-df-convert {\n",
              "      background-color: #E8F0FE;\n",
              "      border: none;\n",
              "      border-radius: 50%;\n",
              "      cursor: pointer;\n",
              "      display: none;\n",
              "      fill: #1967D2;\n",
              "      height: 32px;\n",
              "      padding: 0 0 0 0;\n",
              "      width: 32px;\n",
              "    }\n",
              "\n",
              "    .colab-df-convert:hover {\n",
              "      background-color: #E2EBFA;\n",
              "      box-shadow: 0px 1px 2px rgba(60, 64, 67, 0.3), 0px 1px 3px 1px rgba(60, 64, 67, 0.15);\n",
              "      fill: #174EA6;\n",
              "    }\n",
              "\n",
              "    .colab-df-buttons div {\n",
              "      margin-bottom: 4px;\n",
              "    }\n",
              "\n",
              "    [theme=dark] .colab-df-convert {\n",
              "      background-color: #3B4455;\n",
              "      fill: #D2E3FC;\n",
              "    }\n",
              "\n",
              "    [theme=dark] .colab-df-convert:hover {\n",
              "      background-color: #434B5C;\n",
              "      box-shadow: 0px 1px 3px 1px rgba(0, 0, 0, 0.15);\n",
              "      filter: drop-shadow(0px 1px 2px rgba(0, 0, 0, 0.3));\n",
              "      fill: #FFFFFF;\n",
              "    }\n",
              "  </style>\n",
              "\n",
              "    <script>\n",
              "      const buttonEl =\n",
              "        document.querySelector('#df-ed1dba24-b94b-4735-a7d5-b809f57f3b39 button.colab-df-convert');\n",
              "      buttonEl.style.display =\n",
              "        google.colab.kernel.accessAllowed ? 'block' : 'none';\n",
              "\n",
              "      async function convertToInteractive(key) {\n",
              "        const element = document.querySelector('#df-ed1dba24-b94b-4735-a7d5-b809f57f3b39');\n",
              "        const dataTable =\n",
              "          await google.colab.kernel.invokeFunction('convertToInteractive',\n",
              "                                                    [key], {});\n",
              "        if (!dataTable) return;\n",
              "\n",
              "        const docLinkHtml = 'Like what you see? Visit the ' +\n",
              "          '<a target=\"_blank\" href=https://colab.research.google.com/notebooks/data_table.ipynb>data table notebook</a>'\n",
              "          + ' to learn more about interactive tables.';\n",
              "        element.innerHTML = '';\n",
              "        dataTable['output_type'] = 'display_data';\n",
              "        await google.colab.output.renderOutput(dataTable, element);\n",
              "        const docLink = document.createElement('div');\n",
              "        docLink.innerHTML = docLinkHtml;\n",
              "        element.appendChild(docLink);\n",
              "      }\n",
              "    </script>\n",
              "  </div>\n",
              "\n",
              "\n",
              "<div id=\"df-d1e7ab25-8e67-4f89-bd03-b97dbe0e7e4a\">\n",
              "  <button class=\"colab-df-quickchart\" onclick=\"quickchart('df-d1e7ab25-8e67-4f89-bd03-b97dbe0e7e4a')\"\n",
              "            title=\"Suggest charts\"\n",
              "            style=\"display:none;\">\n",
              "\n",
              "<svg xmlns=\"http://www.w3.org/2000/svg\" height=\"24px\"viewBox=\"0 0 24 24\"\n",
              "     width=\"24px\">\n",
              "    <g>\n",
              "        <path d=\"M19 3H5c-1.1 0-2 .9-2 2v14c0 1.1.9 2 2 2h14c1.1 0 2-.9 2-2V5c0-1.1-.9-2-2-2zM9 17H7v-7h2v7zm4 0h-2V7h2v10zm4 0h-2v-4h2v4z\"/>\n",
              "    </g>\n",
              "</svg>\n",
              "  </button>\n",
              "\n",
              "<style>\n",
              "  .colab-df-quickchart {\n",
              "      --bg-color: #E8F0FE;\n",
              "      --fill-color: #1967D2;\n",
              "      --hover-bg-color: #E2EBFA;\n",
              "      --hover-fill-color: #174EA6;\n",
              "      --disabled-fill-color: #AAA;\n",
              "      --disabled-bg-color: #DDD;\n",
              "  }\n",
              "\n",
              "  [theme=dark] .colab-df-quickchart {\n",
              "      --bg-color: #3B4455;\n",
              "      --fill-color: #D2E3FC;\n",
              "      --hover-bg-color: #434B5C;\n",
              "      --hover-fill-color: #FFFFFF;\n",
              "      --disabled-bg-color: #3B4455;\n",
              "      --disabled-fill-color: #666;\n",
              "  }\n",
              "\n",
              "  .colab-df-quickchart {\n",
              "    background-color: var(--bg-color);\n",
              "    border: none;\n",
              "    border-radius: 50%;\n",
              "    cursor: pointer;\n",
              "    display: none;\n",
              "    fill: var(--fill-color);\n",
              "    height: 32px;\n",
              "    padding: 0;\n",
              "    width: 32px;\n",
              "  }\n",
              "\n",
              "  .colab-df-quickchart:hover {\n",
              "    background-color: var(--hover-bg-color);\n",
              "    box-shadow: 0 1px 2px rgba(60, 64, 67, 0.3), 0 1px 3px 1px rgba(60, 64, 67, 0.15);\n",
              "    fill: var(--button-hover-fill-color);\n",
              "  }\n",
              "\n",
              "  .colab-df-quickchart-complete:disabled,\n",
              "  .colab-df-quickchart-complete:disabled:hover {\n",
              "    background-color: var(--disabled-bg-color);\n",
              "    fill: var(--disabled-fill-color);\n",
              "    box-shadow: none;\n",
              "  }\n",
              "\n",
              "  .colab-df-spinner {\n",
              "    border: 2px solid var(--fill-color);\n",
              "    border-color: transparent;\n",
              "    border-bottom-color: var(--fill-color);\n",
              "    animation:\n",
              "      spin 1s steps(1) infinite;\n",
              "  }\n",
              "\n",
              "  @keyframes spin {\n",
              "    0% {\n",
              "      border-color: transparent;\n",
              "      border-bottom-color: var(--fill-color);\n",
              "      border-left-color: var(--fill-color);\n",
              "    }\n",
              "    20% {\n",
              "      border-color: transparent;\n",
              "      border-left-color: var(--fill-color);\n",
              "      border-top-color: var(--fill-color);\n",
              "    }\n",
              "    30% {\n",
              "      border-color: transparent;\n",
              "      border-left-color: var(--fill-color);\n",
              "      border-top-color: var(--fill-color);\n",
              "      border-right-color: var(--fill-color);\n",
              "    }\n",
              "    40% {\n",
              "      border-color: transparent;\n",
              "      border-right-color: var(--fill-color);\n",
              "      border-top-color: var(--fill-color);\n",
              "    }\n",
              "    60% {\n",
              "      border-color: transparent;\n",
              "      border-right-color: var(--fill-color);\n",
              "    }\n",
              "    80% {\n",
              "      border-color: transparent;\n",
              "      border-right-color: var(--fill-color);\n",
              "      border-bottom-color: var(--fill-color);\n",
              "    }\n",
              "    90% {\n",
              "      border-color: transparent;\n",
              "      border-bottom-color: var(--fill-color);\n",
              "    }\n",
              "  }\n",
              "</style>\n",
              "\n",
              "  <script>\n",
              "    async function quickchart(key) {\n",
              "      const quickchartButtonEl =\n",
              "        document.querySelector('#' + key + ' button');\n",
              "      quickchartButtonEl.disabled = true;  // To prevent multiple clicks.\n",
              "      quickchartButtonEl.classList.add('colab-df-spinner');\n",
              "      try {\n",
              "        const charts = await google.colab.kernel.invokeFunction(\n",
              "            'suggestCharts', [key], {});\n",
              "      } catch (error) {\n",
              "        console.error('Error during call to suggestCharts:', error);\n",
              "      }\n",
              "      quickchartButtonEl.classList.remove('colab-df-spinner');\n",
              "      quickchartButtonEl.classList.add('colab-df-quickchart-complete');\n",
              "    }\n",
              "    (() => {\n",
              "      let quickchartButtonEl =\n",
              "        document.querySelector('#df-d1e7ab25-8e67-4f89-bd03-b97dbe0e7e4a button');\n",
              "      quickchartButtonEl.style.display =\n",
              "        google.colab.kernel.accessAllowed ? 'block' : 'none';\n",
              "    })();\n",
              "  </script>\n",
              "</div>\n",
              "    </div>\n",
              "  </div>\n"
            ]
          },
          "metadata": {},
          "execution_count": 35
        }
      ],
      "source": [
        "df_profit.head(199)"
      ]
    },
    {
      "cell_type": "code",
      "execution_count": null,
      "metadata": {
        "colab": {
          "base_uri": "https://localhost:8080/"
        },
        "id": "DW_SHvLLcd5i",
        "outputId": "ad568871-00e3-42de-e308-cf1c1d825b79"
      },
      "outputs": [
        {
          "output_type": "execute_result",
          "data": {
            "text/plain": [
              "Index(['title', 'link', 'drop', 'timestamp', 'idnumber', 'new_check'], dtype='object')"
            ]
          },
          "metadata": {},
          "execution_count": 36
        }
      ],
      "source": [
        "df2.columns"
      ]
    },
    {
      "cell_type": "code",
      "execution_count": null,
      "metadata": {
        "colab": {
          "base_uri": "https://localhost:8080/",
          "height": 53
        },
        "id": "bccH-JJPcd8F",
        "outputId": "c10dbf6c-5861-464e-da56-f5f8b98f0194"
      },
      "outputs": [
        {
          "output_type": "execute_result",
          "data": {
            "text/plain": [
              "Empty DataFrame\n",
              "Columns: [title, link, drop, timestamp, idnumber]\n",
              "Index: []"
            ],
            "text/html": [
              "\n",
              "  <div id=\"df-5f72f7a2-78f4-40eb-96e4-78f314f1c35a\" class=\"colab-df-container\">\n",
              "    <div>\n",
              "<style scoped>\n",
              "    .dataframe tbody tr th:only-of-type {\n",
              "        vertical-align: middle;\n",
              "    }\n",
              "\n",
              "    .dataframe tbody tr th {\n",
              "        vertical-align: top;\n",
              "    }\n",
              "\n",
              "    .dataframe thead th {\n",
              "        text-align: right;\n",
              "    }\n",
              "</style>\n",
              "<table border=\"1\" class=\"dataframe\">\n",
              "  <thead>\n",
              "    <tr style=\"text-align: right;\">\n",
              "      <th></th>\n",
              "      <th>title</th>\n",
              "      <th>link</th>\n",
              "      <th>drop</th>\n",
              "      <th>timestamp</th>\n",
              "      <th>idnumber</th>\n",
              "    </tr>\n",
              "  </thead>\n",
              "  <tbody>\n",
              "  </tbody>\n",
              "</table>\n",
              "</div>\n",
              "    <div class=\"colab-df-buttons\">\n",
              "\n",
              "  <div class=\"colab-df-container\">\n",
              "    <button class=\"colab-df-convert\" onclick=\"convertToInteractive('df-5f72f7a2-78f4-40eb-96e4-78f314f1c35a')\"\n",
              "            title=\"Convert this dataframe to an interactive table.\"\n",
              "            style=\"display:none;\">\n",
              "\n",
              "  <svg xmlns=\"http://www.w3.org/2000/svg\" height=\"24px\" viewBox=\"0 -960 960 960\">\n",
              "    <path d=\"M120-120v-720h720v720H120Zm60-500h600v-160H180v160Zm220 220h160v-160H400v160Zm0 220h160v-160H400v160ZM180-400h160v-160H180v160Zm440 0h160v-160H620v160ZM180-180h160v-160H180v160Zm440 0h160v-160H620v160Z\"/>\n",
              "  </svg>\n",
              "    </button>\n",
              "\n",
              "  <style>\n",
              "    .colab-df-container {\n",
              "      display:flex;\n",
              "      gap: 12px;\n",
              "    }\n",
              "\n",
              "    .colab-df-convert {\n",
              "      background-color: #E8F0FE;\n",
              "      border: none;\n",
              "      border-radius: 50%;\n",
              "      cursor: pointer;\n",
              "      display: none;\n",
              "      fill: #1967D2;\n",
              "      height: 32px;\n",
              "      padding: 0 0 0 0;\n",
              "      width: 32px;\n",
              "    }\n",
              "\n",
              "    .colab-df-convert:hover {\n",
              "      background-color: #E2EBFA;\n",
              "      box-shadow: 0px 1px 2px rgba(60, 64, 67, 0.3), 0px 1px 3px 1px rgba(60, 64, 67, 0.15);\n",
              "      fill: #174EA6;\n",
              "    }\n",
              "\n",
              "    .colab-df-buttons div {\n",
              "      margin-bottom: 4px;\n",
              "    }\n",
              "\n",
              "    [theme=dark] .colab-df-convert {\n",
              "      background-color: #3B4455;\n",
              "      fill: #D2E3FC;\n",
              "    }\n",
              "\n",
              "    [theme=dark] .colab-df-convert:hover {\n",
              "      background-color: #434B5C;\n",
              "      box-shadow: 0px 1px 3px 1px rgba(0, 0, 0, 0.15);\n",
              "      filter: drop-shadow(0px 1px 2px rgba(0, 0, 0, 0.3));\n",
              "      fill: #FFFFFF;\n",
              "    }\n",
              "  </style>\n",
              "\n",
              "    <script>\n",
              "      const buttonEl =\n",
              "        document.querySelector('#df-5f72f7a2-78f4-40eb-96e4-78f314f1c35a button.colab-df-convert');\n",
              "      buttonEl.style.display =\n",
              "        google.colab.kernel.accessAllowed ? 'block' : 'none';\n",
              "\n",
              "      async function convertToInteractive(key) {\n",
              "        const element = document.querySelector('#df-5f72f7a2-78f4-40eb-96e4-78f314f1c35a');\n",
              "        const dataTable =\n",
              "          await google.colab.kernel.invokeFunction('convertToInteractive',\n",
              "                                                    [key], {});\n",
              "        if (!dataTable) return;\n",
              "\n",
              "        const docLinkHtml = 'Like what you see? Visit the ' +\n",
              "          '<a target=\"_blank\" href=https://colab.research.google.com/notebooks/data_table.ipynb>data table notebook</a>'\n",
              "          + ' to learn more about interactive tables.';\n",
              "        element.innerHTML = '';\n",
              "        dataTable['output_type'] = 'display_data';\n",
              "        await google.colab.output.renderOutput(dataTable, element);\n",
              "        const docLink = document.createElement('div');\n",
              "        docLink.innerHTML = docLinkHtml;\n",
              "        element.appendChild(docLink);\n",
              "      }\n",
              "    </script>\n",
              "  </div>\n",
              "\n",
              "    </div>\n",
              "  </div>\n"
            ]
          },
          "metadata": {},
          "execution_count": 37
        }
      ],
      "source": [
        "columnnames = ['title', 'link', 'drop', 'timestamp', 'idnumber']\n",
        "df_daily = pd.DataFrame(columns = columnnames)\n",
        "df_daily"
      ]
    },
    {
      "cell_type": "code",
      "execution_count": null,
      "metadata": {
        "colab": {
          "base_uri": "https://localhost:8080/",
          "height": 426
        },
        "id": "LY-rIVlFcd_K",
        "outputId": "d2b59b32-eb31-4035-ae1b-33e4015aa392"
      },
      "outputs": [
        {
          "output_type": "execute_result",
          "data": {
            "text/plain": [
              "                                                 title  \\\n",
              "21   Distribuitorul de bunuri de larg consum Licuri...   \n",
              "35   ZF Live. Gabriel Blăniţă, Colliers România: Ce...   \n",
              "45   ANALIZĂ ZF Cum să locuieşti mai bine. Scumpire...   \n",
              "59   Dezvoltatorul imobiliar One United Properties ...   \n",
              "61   Ministerul Economiei aduce clarificări cu priv...   \n",
              "70   Grafic: Evoluţia preţurilor pentru câteva dint...   \n",
              "102  Ministerul Economiei explică insolvenţa Romaer...   \n",
              "117  Dragos Dragoteanu, Euroest Invest: Dan Şucu, n...   \n",
              "132  Cât de prost merg lucrurile în România? Anul t...   \n",
              "38        Cum se construiesc noi cartiere rezidențiale   \n",
              "95   Vânzările rezidențiale ale One United Properti...   \n",
              "153  2024 începe într-o notă optimistă pentru dezvo...   \n",
              "\n",
              "                                                  link      drop   timestamp  \\\n",
              "21   zf.ro/companii/distribuitorul-bunuri-larg-cons...  22253086  06-02-2024   \n",
              "35   zf.ro/zf-live/zf-live-gabriel-blanita-colliers...  22234566  06-02-2024   \n",
              "45   zf.ro/cum-sa-locuiesti-mai-bine/analiza-zf-loc...  22253050  06-02-2024   \n",
              "59   zf.ro/zf-24/dezvoltatorul-imobiliar-one-united...  22253991  06-02-2024   \n",
              "61   zf.ro/burse-fonduri-mutuale/ministerul-economi...  22253037  06-02-2024   \n",
              "70          zf.rohttp://www.zfcorporate.ro/rd-22254617  22254617  06-02-2024   \n",
              "102  zf.ro/burse-fonduri-mutuale/ministerul-economi...  22253171  06-02-2024   \n",
              "117  zf.ro/opinii/dragos-dragoteanu-euroest-invest-...  22239993  06-02-2024   \n",
              "132  zf.ro/constructii-imobiliare/cat-prost-merg-lu...  22240413  06-02-2024   \n",
              "38   profit.ro/povestile-bursei/cum-se-construiesc-...  21402196  06-02-2024   \n",
              "95   profit.ro/povesti-cu-profit/real-estate-constr...  21483987  06-02-2024   \n",
              "153  profit.ro/legal/2024-incepe-intr-o-nota-optimi...  21468978  06-02-2024   \n",
              "\n",
              "             idnumber  \n",
              "21   2225308606022024  \n",
              "35   2223456606022024  \n",
              "45   2225305006022024  \n",
              "59   2225399106022024  \n",
              "61   2225303706022024  \n",
              "70   2225461706022024  \n",
              "102  2225317106022024  \n",
              "117  2223999306022024  \n",
              "132  2224041306022024  \n",
              "38   2140219606022024  \n",
              "95   2148398706022024  \n",
              "153  2146897806022024  "
            ],
            "text/html": [
              "\n",
              "  <div id=\"df-47545984-cc3e-4def-bdb6-1519836c1e7e\" class=\"colab-df-container\">\n",
              "    <div>\n",
              "<style scoped>\n",
              "    .dataframe tbody tr th:only-of-type {\n",
              "        vertical-align: middle;\n",
              "    }\n",
              "\n",
              "    .dataframe tbody tr th {\n",
              "        vertical-align: top;\n",
              "    }\n",
              "\n",
              "    .dataframe thead th {\n",
              "        text-align: right;\n",
              "    }\n",
              "</style>\n",
              "<table border=\"1\" class=\"dataframe\">\n",
              "  <thead>\n",
              "    <tr style=\"text-align: right;\">\n",
              "      <th></th>\n",
              "      <th>title</th>\n",
              "      <th>link</th>\n",
              "      <th>drop</th>\n",
              "      <th>timestamp</th>\n",
              "      <th>idnumber</th>\n",
              "    </tr>\n",
              "  </thead>\n",
              "  <tbody>\n",
              "    <tr>\n",
              "      <th>21</th>\n",
              "      <td>Distribuitorul de bunuri de larg consum Licuri...</td>\n",
              "      <td>zf.ro/companii/distribuitorul-bunuri-larg-cons...</td>\n",
              "      <td>22253086</td>\n",
              "      <td>06-02-2024</td>\n",
              "      <td>2225308606022024</td>\n",
              "    </tr>\n",
              "    <tr>\n",
              "      <th>35</th>\n",
              "      <td>ZF Live. Gabriel Blăniţă, Colliers România: Ce...</td>\n",
              "      <td>zf.ro/zf-live/zf-live-gabriel-blanita-colliers...</td>\n",
              "      <td>22234566</td>\n",
              "      <td>06-02-2024</td>\n",
              "      <td>2223456606022024</td>\n",
              "    </tr>\n",
              "    <tr>\n",
              "      <th>45</th>\n",
              "      <td>ANALIZĂ ZF Cum să locuieşti mai bine. Scumpire...</td>\n",
              "      <td>zf.ro/cum-sa-locuiesti-mai-bine/analiza-zf-loc...</td>\n",
              "      <td>22253050</td>\n",
              "      <td>06-02-2024</td>\n",
              "      <td>2225305006022024</td>\n",
              "    </tr>\n",
              "    <tr>\n",
              "      <th>59</th>\n",
              "      <td>Dezvoltatorul imobiliar One United Properties ...</td>\n",
              "      <td>zf.ro/zf-24/dezvoltatorul-imobiliar-one-united...</td>\n",
              "      <td>22253991</td>\n",
              "      <td>06-02-2024</td>\n",
              "      <td>2225399106022024</td>\n",
              "    </tr>\n",
              "    <tr>\n",
              "      <th>61</th>\n",
              "      <td>Ministerul Economiei aduce clarificări cu priv...</td>\n",
              "      <td>zf.ro/burse-fonduri-mutuale/ministerul-economi...</td>\n",
              "      <td>22253037</td>\n",
              "      <td>06-02-2024</td>\n",
              "      <td>2225303706022024</td>\n",
              "    </tr>\n",
              "    <tr>\n",
              "      <th>70</th>\n",
              "      <td>Grafic: Evoluţia preţurilor pentru câteva dint...</td>\n",
              "      <td>zf.rohttp://www.zfcorporate.ro/rd-22254617</td>\n",
              "      <td>22254617</td>\n",
              "      <td>06-02-2024</td>\n",
              "      <td>2225461706022024</td>\n",
              "    </tr>\n",
              "    <tr>\n",
              "      <th>102</th>\n",
              "      <td>Ministerul Economiei explică insolvenţa Romaer...</td>\n",
              "      <td>zf.ro/burse-fonduri-mutuale/ministerul-economi...</td>\n",
              "      <td>22253171</td>\n",
              "      <td>06-02-2024</td>\n",
              "      <td>2225317106022024</td>\n",
              "    </tr>\n",
              "    <tr>\n",
              "      <th>117</th>\n",
              "      <td>Dragos Dragoteanu, Euroest Invest: Dan Şucu, n...</td>\n",
              "      <td>zf.ro/opinii/dragos-dragoteanu-euroest-invest-...</td>\n",
              "      <td>22239993</td>\n",
              "      <td>06-02-2024</td>\n",
              "      <td>2223999306022024</td>\n",
              "    </tr>\n",
              "    <tr>\n",
              "      <th>132</th>\n",
              "      <td>Cât de prost merg lucrurile în România? Anul t...</td>\n",
              "      <td>zf.ro/constructii-imobiliare/cat-prost-merg-lu...</td>\n",
              "      <td>22240413</td>\n",
              "      <td>06-02-2024</td>\n",
              "      <td>2224041306022024</td>\n",
              "    </tr>\n",
              "    <tr>\n",
              "      <th>38</th>\n",
              "      <td>Cum se construiesc noi cartiere rezidențiale</td>\n",
              "      <td>profit.ro/povestile-bursei/cum-se-construiesc-...</td>\n",
              "      <td>21402196</td>\n",
              "      <td>06-02-2024</td>\n",
              "      <td>2140219606022024</td>\n",
              "    </tr>\n",
              "    <tr>\n",
              "      <th>95</th>\n",
              "      <td>Vânzările rezidențiale ale One United Properti...</td>\n",
              "      <td>profit.ro/povesti-cu-profit/real-estate-constr...</td>\n",
              "      <td>21483987</td>\n",
              "      <td>06-02-2024</td>\n",
              "      <td>2148398706022024</td>\n",
              "    </tr>\n",
              "    <tr>\n",
              "      <th>153</th>\n",
              "      <td>2024 începe într-o notă optimistă pentru dezvo...</td>\n",
              "      <td>profit.ro/legal/2024-incepe-intr-o-nota-optimi...</td>\n",
              "      <td>21468978</td>\n",
              "      <td>06-02-2024</td>\n",
              "      <td>2146897806022024</td>\n",
              "    </tr>\n",
              "  </tbody>\n",
              "</table>\n",
              "</div>\n",
              "    <div class=\"colab-df-buttons\">\n",
              "\n",
              "  <div class=\"colab-df-container\">\n",
              "    <button class=\"colab-df-convert\" onclick=\"convertToInteractive('df-47545984-cc3e-4def-bdb6-1519836c1e7e')\"\n",
              "            title=\"Convert this dataframe to an interactive table.\"\n",
              "            style=\"display:none;\">\n",
              "\n",
              "  <svg xmlns=\"http://www.w3.org/2000/svg\" height=\"24px\" viewBox=\"0 -960 960 960\">\n",
              "    <path d=\"M120-120v-720h720v720H120Zm60-500h600v-160H180v160Zm220 220h160v-160H400v160Zm0 220h160v-160H400v160ZM180-400h160v-160H180v160Zm440 0h160v-160H620v160ZM180-180h160v-160H180v160Zm440 0h160v-160H620v160Z\"/>\n",
              "  </svg>\n",
              "    </button>\n",
              "\n",
              "  <style>\n",
              "    .colab-df-container {\n",
              "      display:flex;\n",
              "      gap: 12px;\n",
              "    }\n",
              "\n",
              "    .colab-df-convert {\n",
              "      background-color: #E8F0FE;\n",
              "      border: none;\n",
              "      border-radius: 50%;\n",
              "      cursor: pointer;\n",
              "      display: none;\n",
              "      fill: #1967D2;\n",
              "      height: 32px;\n",
              "      padding: 0 0 0 0;\n",
              "      width: 32px;\n",
              "    }\n",
              "\n",
              "    .colab-df-convert:hover {\n",
              "      background-color: #E2EBFA;\n",
              "      box-shadow: 0px 1px 2px rgba(60, 64, 67, 0.3), 0px 1px 3px 1px rgba(60, 64, 67, 0.15);\n",
              "      fill: #174EA6;\n",
              "    }\n",
              "\n",
              "    .colab-df-buttons div {\n",
              "      margin-bottom: 4px;\n",
              "    }\n",
              "\n",
              "    [theme=dark] .colab-df-convert {\n",
              "      background-color: #3B4455;\n",
              "      fill: #D2E3FC;\n",
              "    }\n",
              "\n",
              "    [theme=dark] .colab-df-convert:hover {\n",
              "      background-color: #434B5C;\n",
              "      box-shadow: 0px 1px 3px 1px rgba(0, 0, 0, 0.15);\n",
              "      filter: drop-shadow(0px 1px 2px rgba(0, 0, 0, 0.3));\n",
              "      fill: #FFFFFF;\n",
              "    }\n",
              "  </style>\n",
              "\n",
              "    <script>\n",
              "      const buttonEl =\n",
              "        document.querySelector('#df-47545984-cc3e-4def-bdb6-1519836c1e7e button.colab-df-convert');\n",
              "      buttonEl.style.display =\n",
              "        google.colab.kernel.accessAllowed ? 'block' : 'none';\n",
              "\n",
              "      async function convertToInteractive(key) {\n",
              "        const element = document.querySelector('#df-47545984-cc3e-4def-bdb6-1519836c1e7e');\n",
              "        const dataTable =\n",
              "          await google.colab.kernel.invokeFunction('convertToInteractive',\n",
              "                                                    [key], {});\n",
              "        if (!dataTable) return;\n",
              "\n",
              "        const docLinkHtml = 'Like what you see? Visit the ' +\n",
              "          '<a target=\"_blank\" href=https://colab.research.google.com/notebooks/data_table.ipynb>data table notebook</a>'\n",
              "          + ' to learn more about interactive tables.';\n",
              "        element.innerHTML = '';\n",
              "        dataTable['output_type'] = 'display_data';\n",
              "        await google.colab.output.renderOutput(dataTable, element);\n",
              "        const docLink = document.createElement('div');\n",
              "        docLink.innerHTML = docLinkHtml;\n",
              "        element.appendChild(docLink);\n",
              "      }\n",
              "    </script>\n",
              "  </div>\n",
              "\n",
              "\n",
              "<div id=\"df-eb5b4686-a726-4e4c-b2a0-e0c7eed9fcfc\">\n",
              "  <button class=\"colab-df-quickchart\" onclick=\"quickchart('df-eb5b4686-a726-4e4c-b2a0-e0c7eed9fcfc')\"\n",
              "            title=\"Suggest charts\"\n",
              "            style=\"display:none;\">\n",
              "\n",
              "<svg xmlns=\"http://www.w3.org/2000/svg\" height=\"24px\"viewBox=\"0 0 24 24\"\n",
              "     width=\"24px\">\n",
              "    <g>\n",
              "        <path d=\"M19 3H5c-1.1 0-2 .9-2 2v14c0 1.1.9 2 2 2h14c1.1 0 2-.9 2-2V5c0-1.1-.9-2-2-2zM9 17H7v-7h2v7zm4 0h-2V7h2v10zm4 0h-2v-4h2v4z\"/>\n",
              "    </g>\n",
              "</svg>\n",
              "  </button>\n",
              "\n",
              "<style>\n",
              "  .colab-df-quickchart {\n",
              "      --bg-color: #E8F0FE;\n",
              "      --fill-color: #1967D2;\n",
              "      --hover-bg-color: #E2EBFA;\n",
              "      --hover-fill-color: #174EA6;\n",
              "      --disabled-fill-color: #AAA;\n",
              "      --disabled-bg-color: #DDD;\n",
              "  }\n",
              "\n",
              "  [theme=dark] .colab-df-quickchart {\n",
              "      --bg-color: #3B4455;\n",
              "      --fill-color: #D2E3FC;\n",
              "      --hover-bg-color: #434B5C;\n",
              "      --hover-fill-color: #FFFFFF;\n",
              "      --disabled-bg-color: #3B4455;\n",
              "      --disabled-fill-color: #666;\n",
              "  }\n",
              "\n",
              "  .colab-df-quickchart {\n",
              "    background-color: var(--bg-color);\n",
              "    border: none;\n",
              "    border-radius: 50%;\n",
              "    cursor: pointer;\n",
              "    display: none;\n",
              "    fill: var(--fill-color);\n",
              "    height: 32px;\n",
              "    padding: 0;\n",
              "    width: 32px;\n",
              "  }\n",
              "\n",
              "  .colab-df-quickchart:hover {\n",
              "    background-color: var(--hover-bg-color);\n",
              "    box-shadow: 0 1px 2px rgba(60, 64, 67, 0.3), 0 1px 3px 1px rgba(60, 64, 67, 0.15);\n",
              "    fill: var(--button-hover-fill-color);\n",
              "  }\n",
              "\n",
              "  .colab-df-quickchart-complete:disabled,\n",
              "  .colab-df-quickchart-complete:disabled:hover {\n",
              "    background-color: var(--disabled-bg-color);\n",
              "    fill: var(--disabled-fill-color);\n",
              "    box-shadow: none;\n",
              "  }\n",
              "\n",
              "  .colab-df-spinner {\n",
              "    border: 2px solid var(--fill-color);\n",
              "    border-color: transparent;\n",
              "    border-bottom-color: var(--fill-color);\n",
              "    animation:\n",
              "      spin 1s steps(1) infinite;\n",
              "  }\n",
              "\n",
              "  @keyframes spin {\n",
              "    0% {\n",
              "      border-color: transparent;\n",
              "      border-bottom-color: var(--fill-color);\n",
              "      border-left-color: var(--fill-color);\n",
              "    }\n",
              "    20% {\n",
              "      border-color: transparent;\n",
              "      border-left-color: var(--fill-color);\n",
              "      border-top-color: var(--fill-color);\n",
              "    }\n",
              "    30% {\n",
              "      border-color: transparent;\n",
              "      border-left-color: var(--fill-color);\n",
              "      border-top-color: var(--fill-color);\n",
              "      border-right-color: var(--fill-color);\n",
              "    }\n",
              "    40% {\n",
              "      border-color: transparent;\n",
              "      border-right-color: var(--fill-color);\n",
              "      border-top-color: var(--fill-color);\n",
              "    }\n",
              "    60% {\n",
              "      border-color: transparent;\n",
              "      border-right-color: var(--fill-color);\n",
              "    }\n",
              "    80% {\n",
              "      border-color: transparent;\n",
              "      border-right-color: var(--fill-color);\n",
              "      border-bottom-color: var(--fill-color);\n",
              "    }\n",
              "    90% {\n",
              "      border-color: transparent;\n",
              "      border-bottom-color: var(--fill-color);\n",
              "    }\n",
              "  }\n",
              "</style>\n",
              "\n",
              "  <script>\n",
              "    async function quickchart(key) {\n",
              "      const quickchartButtonEl =\n",
              "        document.querySelector('#' + key + ' button');\n",
              "      quickchartButtonEl.disabled = true;  // To prevent multiple clicks.\n",
              "      quickchartButtonEl.classList.add('colab-df-spinner');\n",
              "      try {\n",
              "        const charts = await google.colab.kernel.invokeFunction(\n",
              "            'suggestCharts', [key], {});\n",
              "      } catch (error) {\n",
              "        console.error('Error during call to suggestCharts:', error);\n",
              "      }\n",
              "      quickchartButtonEl.classList.remove('colab-df-spinner');\n",
              "      quickchartButtonEl.classList.add('colab-df-quickchart-complete');\n",
              "    }\n",
              "    (() => {\n",
              "      let quickchartButtonEl =\n",
              "        document.querySelector('#df-eb5b4686-a726-4e4c-b2a0-e0c7eed9fcfc button');\n",
              "      quickchartButtonEl.style.display =\n",
              "        google.colab.kernel.accessAllowed ? 'block' : 'none';\n",
              "    })();\n",
              "  </script>\n",
              "</div>\n",
              "    </div>\n",
              "  </div>\n"
            ]
          },
          "metadata": {},
          "execution_count": 38
        }
      ],
      "source": [
        "df_daily = pd.concat([df_zf, df_profit], axis = 0)\n",
        "df_daily"
      ]
    },
    {
      "cell_type": "code",
      "execution_count": null,
      "metadata": {
        "id": "LmKw7r3-kmvf"
      },
      "outputs": [],
      "source": [
        "current_date = datetime.datetime.now().strftime(\"%d_%m_%Y\")"
      ]
    },
    {
      "cell_type": "code",
      "execution_count": null,
      "metadata": {
        "id": "ZeRGzHfleOqC",
        "outputId": "fea58ff8-dcf5-494b-ec37-87b132e7c351",
        "colab": {
          "base_uri": "https://localhost:8080/",
          "height": 17
        }
      },
      "outputs": [
        {
          "output_type": "display_data",
          "data": {
            "text/plain": [
              "<IPython.core.display.Javascript object>"
            ],
            "application/javascript": [
              "\n",
              "    async function download(id, filename, size) {\n",
              "      if (!google.colab.kernel.accessAllowed) {\n",
              "        return;\n",
              "      }\n",
              "      const div = document.createElement('div');\n",
              "      const label = document.createElement('label');\n",
              "      label.textContent = `Downloading \"${filename}\": `;\n",
              "      div.appendChild(label);\n",
              "      const progress = document.createElement('progress');\n",
              "      progress.max = size;\n",
              "      div.appendChild(progress);\n",
              "      document.body.appendChild(div);\n",
              "\n",
              "      const buffers = [];\n",
              "      let downloaded = 0;\n",
              "\n",
              "      const channel = await google.colab.kernel.comms.open(id);\n",
              "      // Send a message to notify the kernel that we're ready.\n",
              "      channel.send({})\n",
              "\n",
              "      for await (const message of channel.messages) {\n",
              "        // Send a message to notify the kernel that we're ready.\n",
              "        channel.send({})\n",
              "        if (message.buffers) {\n",
              "          for (const buffer of message.buffers) {\n",
              "            buffers.push(buffer);\n",
              "            downloaded += buffer.byteLength;\n",
              "            progress.value = downloaded;\n",
              "          }\n",
              "        }\n",
              "      }\n",
              "      const blob = new Blob(buffers, {type: 'application/binary'});\n",
              "      const a = document.createElement('a');\n",
              "      a.href = window.URL.createObjectURL(blob);\n",
              "      a.download = filename;\n",
              "      div.appendChild(a);\n",
              "      a.click();\n",
              "      div.remove();\n",
              "    }\n",
              "  "
            ]
          },
          "metadata": {}
        },
        {
          "output_type": "display_data",
          "data": {
            "text/plain": [
              "<IPython.core.display.Javascript object>"
            ],
            "application/javascript": [
              "download(\"download_8bea0d5d-f132-4c7c-9c1b-d8ab7eeca14e\", \"imob_scrap_06_02_2024.csv\", 4282)"
            ]
          },
          "metadata": {}
        }
      ],
      "source": [
        "path_google = f\"/content/imob_scrap_{current_date}.csv\"\n",
        "df_daily.to_csv(path_google, index=False, encoding = 'utf-8-sig')\n",
        "files.download(path_google)"
      ]
    },
    {
      "cell_type": "code",
      "execution_count": null,
      "metadata": {
        "id": "DyRXfErZhZyu"
      },
      "outputs": [],
      "source": []
    },
    {
      "cell_type": "markdown",
      "metadata": {
        "id": "9rPL6rk-Evu2"
      },
      "source": [
        "______________________________________________________"
      ]
    },
    {
      "cell_type": "markdown",
      "metadata": {
        "id": "6HRF_hHkB_n-"
      },
      "source": [
        "3. economica.net"
      ]
    },
    {
      "cell_type": "code",
      "execution_count": null,
      "metadata": {
        "id": "FULn5st_rc65"
      },
      "outputs": [],
      "source": [
        "lst3 = []\n",
        "link3 = []\n",
        "for x in economica_soup.find_all('div', class_ = 'article add-border article--xs-list' ):\n",
        "\n",
        "\n",
        "  h2_element = x.find('h2', class_ = 'article__title font-weight-700')\n",
        "  h2_text = h2_element.get_text()\n",
        "  h2_href = h2_element.find('a')['href']\n",
        "\n",
        "\n",
        "  lst3.append(h2_text)\n",
        "  link3.append(h2_href)"
      ]
    },
    {
      "cell_type": "code",
      "execution_count": null,
      "metadata": {
        "colab": {
          "base_uri": "https://localhost:8080/",
          "height": 206
        },
        "id": "C-eTBNRr-ZDM",
        "outputId": "d1a60241-5695-4cce-85f4-c7e08af6d107"
      },
      "outputs": [
        {
          "output_type": "execute_result",
          "data": {
            "text/plain": [
              "                                               title  \\\n",
              "0  \\n„Autostrada Sudului”: Traseul drumului de ma...   \n",
              "1  \\nDr. Max, Dona, Regina Maria, MedLife îşi con...   \n",
              "2  \\nLicitația pentru centurile Azuga și Bușteni ...   \n",
              "3  \\nO curtea de apel federală a decis să resping...   \n",
              "4  \\nPrim-ministrul georgian Kobahidze acuză Ucra...   \n",
              "\n",
              "                                                link  \n",
              "0  https://www.economica.net/autostrada-sudului-t...  \n",
              "1  https://www.economica.net/dr-max-dona-regina-m...  \n",
              "2  https://www.economica.net/licitatia-pentru-cen...  \n",
              "3  https://www.economica.net/o-curtea-de-apel-fed...  \n",
              "4  https://www.economica.net/prim-ministrul-georg...  "
            ],
            "text/html": [
              "\n",
              "  <div id=\"df-4d561775-7d33-476e-98a5-19834ecb084c\" class=\"colab-df-container\">\n",
              "    <div>\n",
              "<style scoped>\n",
              "    .dataframe tbody tr th:only-of-type {\n",
              "        vertical-align: middle;\n",
              "    }\n",
              "\n",
              "    .dataframe tbody tr th {\n",
              "        vertical-align: top;\n",
              "    }\n",
              "\n",
              "    .dataframe thead th {\n",
              "        text-align: right;\n",
              "    }\n",
              "</style>\n",
              "<table border=\"1\" class=\"dataframe\">\n",
              "  <thead>\n",
              "    <tr style=\"text-align: right;\">\n",
              "      <th></th>\n",
              "      <th>title</th>\n",
              "      <th>link</th>\n",
              "    </tr>\n",
              "  </thead>\n",
              "  <tbody>\n",
              "    <tr>\n",
              "      <th>0</th>\n",
              "      <td>\\n„Autostrada Sudului”: Traseul drumului de ma...</td>\n",
              "      <td>https://www.economica.net/autostrada-sudului-t...</td>\n",
              "    </tr>\n",
              "    <tr>\n",
              "      <th>1</th>\n",
              "      <td>\\nDr. Max, Dona, Regina Maria, MedLife îşi con...</td>\n",
              "      <td>https://www.economica.net/dr-max-dona-regina-m...</td>\n",
              "    </tr>\n",
              "    <tr>\n",
              "      <th>2</th>\n",
              "      <td>\\nLicitația pentru centurile Azuga și Bușteni ...</td>\n",
              "      <td>https://www.economica.net/licitatia-pentru-cen...</td>\n",
              "    </tr>\n",
              "    <tr>\n",
              "      <th>3</th>\n",
              "      <td>\\nO curtea de apel federală a decis să resping...</td>\n",
              "      <td>https://www.economica.net/o-curtea-de-apel-fed...</td>\n",
              "    </tr>\n",
              "    <tr>\n",
              "      <th>4</th>\n",
              "      <td>\\nPrim-ministrul georgian Kobahidze acuză Ucra...</td>\n",
              "      <td>https://www.economica.net/prim-ministrul-georg...</td>\n",
              "    </tr>\n",
              "  </tbody>\n",
              "</table>\n",
              "</div>\n",
              "    <div class=\"colab-df-buttons\">\n",
              "\n",
              "  <div class=\"colab-df-container\">\n",
              "    <button class=\"colab-df-convert\" onclick=\"convertToInteractive('df-4d561775-7d33-476e-98a5-19834ecb084c')\"\n",
              "            title=\"Convert this dataframe to an interactive table.\"\n",
              "            style=\"display:none;\">\n",
              "\n",
              "  <svg xmlns=\"http://www.w3.org/2000/svg\" height=\"24px\" viewBox=\"0 -960 960 960\">\n",
              "    <path d=\"M120-120v-720h720v720H120Zm60-500h600v-160H180v160Zm220 220h160v-160H400v160Zm0 220h160v-160H400v160ZM180-400h160v-160H180v160Zm440 0h160v-160H620v160ZM180-180h160v-160H180v160Zm440 0h160v-160H620v160Z\"/>\n",
              "  </svg>\n",
              "    </button>\n",
              "\n",
              "  <style>\n",
              "    .colab-df-container {\n",
              "      display:flex;\n",
              "      gap: 12px;\n",
              "    }\n",
              "\n",
              "    .colab-df-convert {\n",
              "      background-color: #E8F0FE;\n",
              "      border: none;\n",
              "      border-radius: 50%;\n",
              "      cursor: pointer;\n",
              "      display: none;\n",
              "      fill: #1967D2;\n",
              "      height: 32px;\n",
              "      padding: 0 0 0 0;\n",
              "      width: 32px;\n",
              "    }\n",
              "\n",
              "    .colab-df-convert:hover {\n",
              "      background-color: #E2EBFA;\n",
              "      box-shadow: 0px 1px 2px rgba(60, 64, 67, 0.3), 0px 1px 3px 1px rgba(60, 64, 67, 0.15);\n",
              "      fill: #174EA6;\n",
              "    }\n",
              "\n",
              "    .colab-df-buttons div {\n",
              "      margin-bottom: 4px;\n",
              "    }\n",
              "\n",
              "    [theme=dark] .colab-df-convert {\n",
              "      background-color: #3B4455;\n",
              "      fill: #D2E3FC;\n",
              "    }\n",
              "\n",
              "    [theme=dark] .colab-df-convert:hover {\n",
              "      background-color: #434B5C;\n",
              "      box-shadow: 0px 1px 3px 1px rgba(0, 0, 0, 0.15);\n",
              "      filter: drop-shadow(0px 1px 2px rgba(0, 0, 0, 0.3));\n",
              "      fill: #FFFFFF;\n",
              "    }\n",
              "  </style>\n",
              "\n",
              "    <script>\n",
              "      const buttonEl =\n",
              "        document.querySelector('#df-4d561775-7d33-476e-98a5-19834ecb084c button.colab-df-convert');\n",
              "      buttonEl.style.display =\n",
              "        google.colab.kernel.accessAllowed ? 'block' : 'none';\n",
              "\n",
              "      async function convertToInteractive(key) {\n",
              "        const element = document.querySelector('#df-4d561775-7d33-476e-98a5-19834ecb084c');\n",
              "        const dataTable =\n",
              "          await google.colab.kernel.invokeFunction('convertToInteractive',\n",
              "                                                    [key], {});\n",
              "        if (!dataTable) return;\n",
              "\n",
              "        const docLinkHtml = 'Like what you see? Visit the ' +\n",
              "          '<a target=\"_blank\" href=https://colab.research.google.com/notebooks/data_table.ipynb>data table notebook</a>'\n",
              "          + ' to learn more about interactive tables.';\n",
              "        element.innerHTML = '';\n",
              "        dataTable['output_type'] = 'display_data';\n",
              "        await google.colab.output.renderOutput(dataTable, element);\n",
              "        const docLink = document.createElement('div');\n",
              "        docLink.innerHTML = docLinkHtml;\n",
              "        element.appendChild(docLink);\n",
              "      }\n",
              "    </script>\n",
              "  </div>\n",
              "\n",
              "\n",
              "<div id=\"df-3253b507-a92f-4b98-b99f-e26f4b93bb40\">\n",
              "  <button class=\"colab-df-quickchart\" onclick=\"quickchart('df-3253b507-a92f-4b98-b99f-e26f4b93bb40')\"\n",
              "            title=\"Suggest charts\"\n",
              "            style=\"display:none;\">\n",
              "\n",
              "<svg xmlns=\"http://www.w3.org/2000/svg\" height=\"24px\"viewBox=\"0 0 24 24\"\n",
              "     width=\"24px\">\n",
              "    <g>\n",
              "        <path d=\"M19 3H5c-1.1 0-2 .9-2 2v14c0 1.1.9 2 2 2h14c1.1 0 2-.9 2-2V5c0-1.1-.9-2-2-2zM9 17H7v-7h2v7zm4 0h-2V7h2v10zm4 0h-2v-4h2v4z\"/>\n",
              "    </g>\n",
              "</svg>\n",
              "  </button>\n",
              "\n",
              "<style>\n",
              "  .colab-df-quickchart {\n",
              "      --bg-color: #E8F0FE;\n",
              "      --fill-color: #1967D2;\n",
              "      --hover-bg-color: #E2EBFA;\n",
              "      --hover-fill-color: #174EA6;\n",
              "      --disabled-fill-color: #AAA;\n",
              "      --disabled-bg-color: #DDD;\n",
              "  }\n",
              "\n",
              "  [theme=dark] .colab-df-quickchart {\n",
              "      --bg-color: #3B4455;\n",
              "      --fill-color: #D2E3FC;\n",
              "      --hover-bg-color: #434B5C;\n",
              "      --hover-fill-color: #FFFFFF;\n",
              "      --disabled-bg-color: #3B4455;\n",
              "      --disabled-fill-color: #666;\n",
              "  }\n",
              "\n",
              "  .colab-df-quickchart {\n",
              "    background-color: var(--bg-color);\n",
              "    border: none;\n",
              "    border-radius: 50%;\n",
              "    cursor: pointer;\n",
              "    display: none;\n",
              "    fill: var(--fill-color);\n",
              "    height: 32px;\n",
              "    padding: 0;\n",
              "    width: 32px;\n",
              "  }\n",
              "\n",
              "  .colab-df-quickchart:hover {\n",
              "    background-color: var(--hover-bg-color);\n",
              "    box-shadow: 0 1px 2px rgba(60, 64, 67, 0.3), 0 1px 3px 1px rgba(60, 64, 67, 0.15);\n",
              "    fill: var(--button-hover-fill-color);\n",
              "  }\n",
              "\n",
              "  .colab-df-quickchart-complete:disabled,\n",
              "  .colab-df-quickchart-complete:disabled:hover {\n",
              "    background-color: var(--disabled-bg-color);\n",
              "    fill: var(--disabled-fill-color);\n",
              "    box-shadow: none;\n",
              "  }\n",
              "\n",
              "  .colab-df-spinner {\n",
              "    border: 2px solid var(--fill-color);\n",
              "    border-color: transparent;\n",
              "    border-bottom-color: var(--fill-color);\n",
              "    animation:\n",
              "      spin 1s steps(1) infinite;\n",
              "  }\n",
              "\n",
              "  @keyframes spin {\n",
              "    0% {\n",
              "      border-color: transparent;\n",
              "      border-bottom-color: var(--fill-color);\n",
              "      border-left-color: var(--fill-color);\n",
              "    }\n",
              "    20% {\n",
              "      border-color: transparent;\n",
              "      border-left-color: var(--fill-color);\n",
              "      border-top-color: var(--fill-color);\n",
              "    }\n",
              "    30% {\n",
              "      border-color: transparent;\n",
              "      border-left-color: var(--fill-color);\n",
              "      border-top-color: var(--fill-color);\n",
              "      border-right-color: var(--fill-color);\n",
              "    }\n",
              "    40% {\n",
              "      border-color: transparent;\n",
              "      border-right-color: var(--fill-color);\n",
              "      border-top-color: var(--fill-color);\n",
              "    }\n",
              "    60% {\n",
              "      border-color: transparent;\n",
              "      border-right-color: var(--fill-color);\n",
              "    }\n",
              "    80% {\n",
              "      border-color: transparent;\n",
              "      border-right-color: var(--fill-color);\n",
              "      border-bottom-color: var(--fill-color);\n",
              "    }\n",
              "    90% {\n",
              "      border-color: transparent;\n",
              "      border-bottom-color: var(--fill-color);\n",
              "    }\n",
              "  }\n",
              "</style>\n",
              "\n",
              "  <script>\n",
              "    async function quickchart(key) {\n",
              "      const quickchartButtonEl =\n",
              "        document.querySelector('#' + key + ' button');\n",
              "      quickchartButtonEl.disabled = true;  // To prevent multiple clicks.\n",
              "      quickchartButtonEl.classList.add('colab-df-spinner');\n",
              "      try {\n",
              "        const charts = await google.colab.kernel.invokeFunction(\n",
              "            'suggestCharts', [key], {});\n",
              "      } catch (error) {\n",
              "        console.error('Error during call to suggestCharts:', error);\n",
              "      }\n",
              "      quickchartButtonEl.classList.remove('colab-df-spinner');\n",
              "      quickchartButtonEl.classList.add('colab-df-quickchart-complete');\n",
              "    }\n",
              "    (() => {\n",
              "      let quickchartButtonEl =\n",
              "        document.querySelector('#df-3253b507-a92f-4b98-b99f-e26f4b93bb40 button');\n",
              "      quickchartButtonEl.style.display =\n",
              "        google.colab.kernel.accessAllowed ? 'block' : 'none';\n",
              "    })();\n",
              "  </script>\n",
              "</div>\n",
              "    </div>\n",
              "  </div>\n"
            ]
          },
          "metadata": {},
          "execution_count": 42
        }
      ],
      "source": [
        "df3 = pd.DataFrame({'title': lst3, 'link': link3})\n",
        "df3.head()"
      ]
    },
    {
      "cell_type": "code",
      "source": [],
      "metadata": {
        "id": "r58zgkyMMbS4"
      },
      "execution_count": null,
      "outputs": []
    },
    {
      "cell_type": "code",
      "source": [],
      "metadata": {
        "id": "Une6i_nlPZod"
      },
      "execution_count": null,
      "outputs": []
    },
    {
      "cell_type": "code",
      "source": [
        "economica_url = 'https://www.economica.net/imobiliare'\n",
        "economica_response = requests.get(economica_url)\n",
        "economica_soup = BeautifulSoup(economica_response.content, 'html.parser')"
      ],
      "metadata": {
        "id": "iXkXfBz-PZw-"
      },
      "execution_count": null,
      "outputs": []
    },
    {
      "cell_type": "code",
      "source": [],
      "metadata": {
        "id": "Rut-_7B2Sf6G"
      },
      "execution_count": null,
      "outputs": []
    },
    {
      "cell_type": "code",
      "execution_count": null,
      "metadata": {
        "id": "vg043ycrE0hj"
      },
      "outputs": [],
      "source": [
        "lst4 = []\n",
        "link4 = []\n",
        "for x in economica_soup.find_all('div', class_ = 'article add-border article--xs-list' ):\n",
        "\n",
        "\n",
        "  h2_element = x.find('h2', class_ = 'article__title font-weight-700')\n",
        "  h2_text = h2_element.get_text()\n",
        "  h2_href = h2_element.find('a')['href']\n",
        "\n",
        "\n",
        "  lst4.append(h2_text)\n",
        "  link4.append(h2_href)"
      ]
    },
    {
      "cell_type": "code",
      "source": [],
      "metadata": {
        "id": "kFcJR9u7UYCh"
      },
      "execution_count": null,
      "outputs": []
    },
    {
      "cell_type": "code",
      "source": [
        "lst5 = []\n",
        "link5 = []\n",
        "\n",
        "for x in economica_soup.find_all('div', class_ = 'article__date'):\n",
        "  date = x.get_text()\n",
        "  lst5.append(date)\n"
      ],
      "metadata": {
        "id": "A_wU-CpbUYJW"
      },
      "execution_count": null,
      "outputs": []
    },
    {
      "cell_type": "code",
      "source": [
        "df_econ1 = pd.DataFrame(lst4, columns = ['titlu'])\n",
        "df_econ2 = pd.DataFrame(link4, columns = ['link'])\n",
        "df_econ3 = pd.DataFrame(lst5, columns = ['date'])\n"
      ],
      "metadata": {
        "id": "jeCa5g-0-9kZ"
      },
      "execution_count": null,
      "outputs": []
    },
    {
      "cell_type": "code",
      "source": [
        "df_economica = pd.concat([df_econ1, df_econ2, df_econ3], axis = 1)\n",
        "df_economica"
      ],
      "metadata": {
        "colab": {
          "base_uri": "https://localhost:8080/",
          "height": 990
        },
        "id": "n3hQsDbm-egU",
        "outputId": "acae6748-ffd1-4911-8551-48da7806761a"
      },
      "execution_count": null,
      "outputs": [
        {
          "output_type": "execute_result",
          "data": {
            "text/plain": [
              "                                                titlu  \\\n",
              "0   \\nNicuşor Dan acuză o lacună legislativă în ca...   \n",
              "1   \\nHanul Solacolu, care a fost prima fabrică de...   \n",
              "2   \\nNoua Casă 2024: Guvernul a aprobat un plafon...   \n",
              "3   \\n83% dintre proprietarii de locuințe din Româ...   \n",
              "4   \\nComisia Europeană vrea o nouă derogare pentr...   \n",
              "5   \\nIonuț Stan a fost promovat Partener al Cross...   \n",
              "6   \\nCum să îmbunătățeşti performanța agenției ta...   \n",
              "7   \\nMitiska vrea un nou portofoliu de parcuri de...   \n",
              "8   \\nCum va arăta Țiriac City, mega-proiectul spo...   \n",
              "9   \\nArcese România a închiriat 10.500 de mp în C...   \n",
              "10  \\nFără zgârie-nori în București. 2024, cel mai...   \n",
              "11  \\nIon Țiriac scoate la vânzare un teren de 30....   \n",
              "12  \\nPrimul dezvoltator imobiliar lovit de criză:...   \n",
              "13  \\nJudețul din România care a devenit un punct ...   \n",
              "14  \\nBrandul Lefties ocolește Capitala și deschid...   \n",
              "15  \\nAdrian Ioan Popa Bochiș este noul președinte...   \n",
              "16  \\n10 trenduri care vor marca arhitectura și co...   \n",
              "17  \\nProprietarii cer chirii cu 20% mai mari. Cât...   \n",
              "18  \\nVolumul tranzacţiilor cu terenuri pentru pro...   \n",
              "19  \\nPolonia şi România, ţările UE cu cele mai ma...   \n",
              "20  \\nCITR: Hotelul Coroana de Aur din Bistrița, c...   \n",
              "21  \\nDezvoltatorul CTP a finalizat primul centru ...   \n",
              "22  \\nNumărul autorizaţiilor de construire pentru ...   \n",
              "23  \\nUn miliardar chinez este al doilea mare deţi...   \n",
              "24  \\nCartierele din București unde au scăzut preț...   \n",
              "25  \\nCele mai frumoase case tradiționale din Româ...   \n",
              "26  \\nIonuț Negoiță vinde până la sfârșitul lunii ...   \n",
              "27  \\nNEPI Rockcastle a primit o finanțare verde d...   \n",
              "28  \\nGrilele notarilor 2024. Care sunt valorile a...   \n",
              "29  \\nSe înființează rețeua națională de ghișee de...   \n",
              "\n",
              "                                                 link          date  \n",
              "0   https://www.economica.net/nicusor-dan-acuza-o-...  04 feb. 2024  \n",
              "1   https://www.economica.net/hanul-solacolu-conso...  02 feb. 2024  \n",
              "2   https://www.economica.net/guvernul-a-aprobat-u...  31 ian. 2024  \n",
              "3   https://www.economica.net/83-dintre-proprietar...  31 ian. 2024  \n",
              "4   https://www.economica.net/comisia-europeana-vr...  30 ian. 2024  \n",
              "5   https://www.economica.net/ionut-stan-a-fost-pr...  30 ian. 2024  \n",
              "6   https://www.economica.net/cum-sa-imbunatatesti...  30 ian. 2024  \n",
              "7   https://www.economica.net/mitiska-romania-pite...  28 ian. 2024  \n",
              "8   https://www.economica.net/tiriac-city-complex-...  28 ian. 2024  \n",
              "9   https://www.economica.net/arcese-romania-a-inc...  25 ian. 2024  \n",
              "10  https://www.economica.net/fara-zgarie-nori-in-...  21 ian. 2024  \n",
              "11  https://www.economica.net/ion-tiriac-teren-buc...  19 ian. 2024  \n",
              "12  https://www.economica.net/qualis-properties-pl...  19 ian. 2024  \n",
              "13  https://www.economica.net/tranzactii-apartamen...  15 ian. 2024  \n",
              "14  https://www.economica.net/brandul-lefties-ocol...  15 ian. 2024  \n",
              "15  https://www.economica.net/adrian-ioan-popa-boc...  12 ian. 2024  \n",
              "16  https://www.economica.net/10-trenduri-care-vor...  11 ian. 2024  \n",
              "17  https://www.economica.net/proprietarii-cer-chi...  11 ian. 2024  \n",
              "18  https://www.economica.net/volumul-tranzactiilo...  11 ian. 2024  \n",
              "19  https://www.economica.net/polonia-si-romania-t...  10 ian. 2024  \n",
              "20  https://www.economica.net/citr-hotelul-coroana...  09 ian. 2024  \n",
              "21  https://www.economica.net/dezvoltatorul-ctp-a-...  09 ian. 2024  \n",
              "22  https://www.economica.net/numarul-autorizatiil...  09 ian. 2024  \n",
              "23  https://www.economica.net/un-miliardar-chinez-...  09 ian. 2024  \n",
              "24  https://www.economica.net/preturi-apartamente-...  07 ian. 2024  \n",
              "25  https://www.economica.net/case-traditionale-de...  06 ian. 2024  \n",
              "26  https://www.economica.net/ionut-negoita-tva-ap...  04 ian. 2024  \n",
              "27  https://www.economica.net/nepi-rockcastle-a-pr...  02 ian. 2024  \n",
              "28  https://www.economica.net/grilele-notarilor-20...  29 dec. 2023  \n",
              "29  https://www.economica.net/se-infiinteaza-reteu...  28 dec. 2023  "
            ],
            "text/html": [
              "\n",
              "  <div id=\"df-8bb7ac56-bc90-4f46-abb9-0f5bc7f01dde\" class=\"colab-df-container\">\n",
              "    <div>\n",
              "<style scoped>\n",
              "    .dataframe tbody tr th:only-of-type {\n",
              "        vertical-align: middle;\n",
              "    }\n",
              "\n",
              "    .dataframe tbody tr th {\n",
              "        vertical-align: top;\n",
              "    }\n",
              "\n",
              "    .dataframe thead th {\n",
              "        text-align: right;\n",
              "    }\n",
              "</style>\n",
              "<table border=\"1\" class=\"dataframe\">\n",
              "  <thead>\n",
              "    <tr style=\"text-align: right;\">\n",
              "      <th></th>\n",
              "      <th>titlu</th>\n",
              "      <th>link</th>\n",
              "      <th>date</th>\n",
              "    </tr>\n",
              "  </thead>\n",
              "  <tbody>\n",
              "    <tr>\n",
              "      <th>0</th>\n",
              "      <td>\\nNicuşor Dan acuză o lacună legislativă în ca...</td>\n",
              "      <td>https://www.economica.net/nicusor-dan-acuza-o-...</td>\n",
              "      <td>04 feb. 2024</td>\n",
              "    </tr>\n",
              "    <tr>\n",
              "      <th>1</th>\n",
              "      <td>\\nHanul Solacolu, care a fost prima fabrică de...</td>\n",
              "      <td>https://www.economica.net/hanul-solacolu-conso...</td>\n",
              "      <td>02 feb. 2024</td>\n",
              "    </tr>\n",
              "    <tr>\n",
              "      <th>2</th>\n",
              "      <td>\\nNoua Casă 2024: Guvernul a aprobat un plafon...</td>\n",
              "      <td>https://www.economica.net/guvernul-a-aprobat-u...</td>\n",
              "      <td>31 ian. 2024</td>\n",
              "    </tr>\n",
              "    <tr>\n",
              "      <th>3</th>\n",
              "      <td>\\n83% dintre proprietarii de locuințe din Româ...</td>\n",
              "      <td>https://www.economica.net/83-dintre-proprietar...</td>\n",
              "      <td>31 ian. 2024</td>\n",
              "    </tr>\n",
              "    <tr>\n",
              "      <th>4</th>\n",
              "      <td>\\nComisia Europeană vrea o nouă derogare pentr...</td>\n",
              "      <td>https://www.economica.net/comisia-europeana-vr...</td>\n",
              "      <td>30 ian. 2024</td>\n",
              "    </tr>\n",
              "    <tr>\n",
              "      <th>5</th>\n",
              "      <td>\\nIonuț Stan a fost promovat Partener al Cross...</td>\n",
              "      <td>https://www.economica.net/ionut-stan-a-fost-pr...</td>\n",
              "      <td>30 ian. 2024</td>\n",
              "    </tr>\n",
              "    <tr>\n",
              "      <th>6</th>\n",
              "      <td>\\nCum să îmbunătățeşti performanța agenției ta...</td>\n",
              "      <td>https://www.economica.net/cum-sa-imbunatatesti...</td>\n",
              "      <td>30 ian. 2024</td>\n",
              "    </tr>\n",
              "    <tr>\n",
              "      <th>7</th>\n",
              "      <td>\\nMitiska vrea un nou portofoliu de parcuri de...</td>\n",
              "      <td>https://www.economica.net/mitiska-romania-pite...</td>\n",
              "      <td>28 ian. 2024</td>\n",
              "    </tr>\n",
              "    <tr>\n",
              "      <th>8</th>\n",
              "      <td>\\nCum va arăta Țiriac City, mega-proiectul spo...</td>\n",
              "      <td>https://www.economica.net/tiriac-city-complex-...</td>\n",
              "      <td>28 ian. 2024</td>\n",
              "    </tr>\n",
              "    <tr>\n",
              "      <th>9</th>\n",
              "      <td>\\nArcese România a închiriat 10.500 de mp în C...</td>\n",
              "      <td>https://www.economica.net/arcese-romania-a-inc...</td>\n",
              "      <td>25 ian. 2024</td>\n",
              "    </tr>\n",
              "    <tr>\n",
              "      <th>10</th>\n",
              "      <td>\\nFără zgârie-nori în București. 2024, cel mai...</td>\n",
              "      <td>https://www.economica.net/fara-zgarie-nori-in-...</td>\n",
              "      <td>21 ian. 2024</td>\n",
              "    </tr>\n",
              "    <tr>\n",
              "      <th>11</th>\n",
              "      <td>\\nIon Țiriac scoate la vânzare un teren de 30....</td>\n",
              "      <td>https://www.economica.net/ion-tiriac-teren-buc...</td>\n",
              "      <td>19 ian. 2024</td>\n",
              "    </tr>\n",
              "    <tr>\n",
              "      <th>12</th>\n",
              "      <td>\\nPrimul dezvoltator imobiliar lovit de criză:...</td>\n",
              "      <td>https://www.economica.net/qualis-properties-pl...</td>\n",
              "      <td>19 ian. 2024</td>\n",
              "    </tr>\n",
              "    <tr>\n",
              "      <th>13</th>\n",
              "      <td>\\nJudețul din România care a devenit un punct ...</td>\n",
              "      <td>https://www.economica.net/tranzactii-apartamen...</td>\n",
              "      <td>15 ian. 2024</td>\n",
              "    </tr>\n",
              "    <tr>\n",
              "      <th>14</th>\n",
              "      <td>\\nBrandul Lefties ocolește Capitala și deschid...</td>\n",
              "      <td>https://www.economica.net/brandul-lefties-ocol...</td>\n",
              "      <td>15 ian. 2024</td>\n",
              "    </tr>\n",
              "    <tr>\n",
              "      <th>15</th>\n",
              "      <td>\\nAdrian Ioan Popa Bochiș este noul președinte...</td>\n",
              "      <td>https://www.economica.net/adrian-ioan-popa-boc...</td>\n",
              "      <td>12 ian. 2024</td>\n",
              "    </tr>\n",
              "    <tr>\n",
              "      <th>16</th>\n",
              "      <td>\\n10 trenduri care vor marca arhitectura și co...</td>\n",
              "      <td>https://www.economica.net/10-trenduri-care-vor...</td>\n",
              "      <td>11 ian. 2024</td>\n",
              "    </tr>\n",
              "    <tr>\n",
              "      <th>17</th>\n",
              "      <td>\\nProprietarii cer chirii cu 20% mai mari. Cât...</td>\n",
              "      <td>https://www.economica.net/proprietarii-cer-chi...</td>\n",
              "      <td>11 ian. 2024</td>\n",
              "    </tr>\n",
              "    <tr>\n",
              "      <th>18</th>\n",
              "      <td>\\nVolumul tranzacţiilor cu terenuri pentru pro...</td>\n",
              "      <td>https://www.economica.net/volumul-tranzactiilo...</td>\n",
              "      <td>11 ian. 2024</td>\n",
              "    </tr>\n",
              "    <tr>\n",
              "      <th>19</th>\n",
              "      <td>\\nPolonia şi România, ţările UE cu cele mai ma...</td>\n",
              "      <td>https://www.economica.net/polonia-si-romania-t...</td>\n",
              "      <td>10 ian. 2024</td>\n",
              "    </tr>\n",
              "    <tr>\n",
              "      <th>20</th>\n",
              "      <td>\\nCITR: Hotelul Coroana de Aur din Bistrița, c...</td>\n",
              "      <td>https://www.economica.net/citr-hotelul-coroana...</td>\n",
              "      <td>09 ian. 2024</td>\n",
              "    </tr>\n",
              "    <tr>\n",
              "      <th>21</th>\n",
              "      <td>\\nDezvoltatorul CTP a finalizat primul centru ...</td>\n",
              "      <td>https://www.economica.net/dezvoltatorul-ctp-a-...</td>\n",
              "      <td>09 ian. 2024</td>\n",
              "    </tr>\n",
              "    <tr>\n",
              "      <th>22</th>\n",
              "      <td>\\nNumărul autorizaţiilor de construire pentru ...</td>\n",
              "      <td>https://www.economica.net/numarul-autorizatiil...</td>\n",
              "      <td>09 ian. 2024</td>\n",
              "    </tr>\n",
              "    <tr>\n",
              "      <th>23</th>\n",
              "      <td>\\nUn miliardar chinez este al doilea mare deţi...</td>\n",
              "      <td>https://www.economica.net/un-miliardar-chinez-...</td>\n",
              "      <td>09 ian. 2024</td>\n",
              "    </tr>\n",
              "    <tr>\n",
              "      <th>24</th>\n",
              "      <td>\\nCartierele din București unde au scăzut preț...</td>\n",
              "      <td>https://www.economica.net/preturi-apartamente-...</td>\n",
              "      <td>07 ian. 2024</td>\n",
              "    </tr>\n",
              "    <tr>\n",
              "      <th>25</th>\n",
              "      <td>\\nCele mai frumoase case tradiționale din Româ...</td>\n",
              "      <td>https://www.economica.net/case-traditionale-de...</td>\n",
              "      <td>06 ian. 2024</td>\n",
              "    </tr>\n",
              "    <tr>\n",
              "      <th>26</th>\n",
              "      <td>\\nIonuț Negoiță vinde până la sfârșitul lunii ...</td>\n",
              "      <td>https://www.economica.net/ionut-negoita-tva-ap...</td>\n",
              "      <td>04 ian. 2024</td>\n",
              "    </tr>\n",
              "    <tr>\n",
              "      <th>27</th>\n",
              "      <td>\\nNEPI Rockcastle a primit o finanțare verde d...</td>\n",
              "      <td>https://www.economica.net/nepi-rockcastle-a-pr...</td>\n",
              "      <td>02 ian. 2024</td>\n",
              "    </tr>\n",
              "    <tr>\n",
              "      <th>28</th>\n",
              "      <td>\\nGrilele notarilor 2024. Care sunt valorile a...</td>\n",
              "      <td>https://www.economica.net/grilele-notarilor-20...</td>\n",
              "      <td>29 dec. 2023</td>\n",
              "    </tr>\n",
              "    <tr>\n",
              "      <th>29</th>\n",
              "      <td>\\nSe înființează rețeua națională de ghișee de...</td>\n",
              "      <td>https://www.economica.net/se-infiinteaza-reteu...</td>\n",
              "      <td>28 dec. 2023</td>\n",
              "    </tr>\n",
              "  </tbody>\n",
              "</table>\n",
              "</div>\n",
              "    <div class=\"colab-df-buttons\">\n",
              "\n",
              "  <div class=\"colab-df-container\">\n",
              "    <button class=\"colab-df-convert\" onclick=\"convertToInteractive('df-8bb7ac56-bc90-4f46-abb9-0f5bc7f01dde')\"\n",
              "            title=\"Convert this dataframe to an interactive table.\"\n",
              "            style=\"display:none;\">\n",
              "\n",
              "  <svg xmlns=\"http://www.w3.org/2000/svg\" height=\"24px\" viewBox=\"0 -960 960 960\">\n",
              "    <path d=\"M120-120v-720h720v720H120Zm60-500h600v-160H180v160Zm220 220h160v-160H400v160Zm0 220h160v-160H400v160ZM180-400h160v-160H180v160Zm440 0h160v-160H620v160ZM180-180h160v-160H180v160Zm440 0h160v-160H620v160Z\"/>\n",
              "  </svg>\n",
              "    </button>\n",
              "\n",
              "  <style>\n",
              "    .colab-df-container {\n",
              "      display:flex;\n",
              "      gap: 12px;\n",
              "    }\n",
              "\n",
              "    .colab-df-convert {\n",
              "      background-color: #E8F0FE;\n",
              "      border: none;\n",
              "      border-radius: 50%;\n",
              "      cursor: pointer;\n",
              "      display: none;\n",
              "      fill: #1967D2;\n",
              "      height: 32px;\n",
              "      padding: 0 0 0 0;\n",
              "      width: 32px;\n",
              "    }\n",
              "\n",
              "    .colab-df-convert:hover {\n",
              "      background-color: #E2EBFA;\n",
              "      box-shadow: 0px 1px 2px rgba(60, 64, 67, 0.3), 0px 1px 3px 1px rgba(60, 64, 67, 0.15);\n",
              "      fill: #174EA6;\n",
              "    }\n",
              "\n",
              "    .colab-df-buttons div {\n",
              "      margin-bottom: 4px;\n",
              "    }\n",
              "\n",
              "    [theme=dark] .colab-df-convert {\n",
              "      background-color: #3B4455;\n",
              "      fill: #D2E3FC;\n",
              "    }\n",
              "\n",
              "    [theme=dark] .colab-df-convert:hover {\n",
              "      background-color: #434B5C;\n",
              "      box-shadow: 0px 1px 3px 1px rgba(0, 0, 0, 0.15);\n",
              "      filter: drop-shadow(0px 1px 2px rgba(0, 0, 0, 0.3));\n",
              "      fill: #FFFFFF;\n",
              "    }\n",
              "  </style>\n",
              "\n",
              "    <script>\n",
              "      const buttonEl =\n",
              "        document.querySelector('#df-8bb7ac56-bc90-4f46-abb9-0f5bc7f01dde button.colab-df-convert');\n",
              "      buttonEl.style.display =\n",
              "        google.colab.kernel.accessAllowed ? 'block' : 'none';\n",
              "\n",
              "      async function convertToInteractive(key) {\n",
              "        const element = document.querySelector('#df-8bb7ac56-bc90-4f46-abb9-0f5bc7f01dde');\n",
              "        const dataTable =\n",
              "          await google.colab.kernel.invokeFunction('convertToInteractive',\n",
              "                                                    [key], {});\n",
              "        if (!dataTable) return;\n",
              "\n",
              "        const docLinkHtml = 'Like what you see? Visit the ' +\n",
              "          '<a target=\"_blank\" href=https://colab.research.google.com/notebooks/data_table.ipynb>data table notebook</a>'\n",
              "          + ' to learn more about interactive tables.';\n",
              "        element.innerHTML = '';\n",
              "        dataTable['output_type'] = 'display_data';\n",
              "        await google.colab.output.renderOutput(dataTable, element);\n",
              "        const docLink = document.createElement('div');\n",
              "        docLink.innerHTML = docLinkHtml;\n",
              "        element.appendChild(docLink);\n",
              "      }\n",
              "    </script>\n",
              "  </div>\n",
              "\n",
              "\n",
              "<div id=\"df-ba41bd9e-2da3-4619-becb-d0d2911d5cd1\">\n",
              "  <button class=\"colab-df-quickchart\" onclick=\"quickchart('df-ba41bd9e-2da3-4619-becb-d0d2911d5cd1')\"\n",
              "            title=\"Suggest charts\"\n",
              "            style=\"display:none;\">\n",
              "\n",
              "<svg xmlns=\"http://www.w3.org/2000/svg\" height=\"24px\"viewBox=\"0 0 24 24\"\n",
              "     width=\"24px\">\n",
              "    <g>\n",
              "        <path d=\"M19 3H5c-1.1 0-2 .9-2 2v14c0 1.1.9 2 2 2h14c1.1 0 2-.9 2-2V5c0-1.1-.9-2-2-2zM9 17H7v-7h2v7zm4 0h-2V7h2v10zm4 0h-2v-4h2v4z\"/>\n",
              "    </g>\n",
              "</svg>\n",
              "  </button>\n",
              "\n",
              "<style>\n",
              "  .colab-df-quickchart {\n",
              "      --bg-color: #E8F0FE;\n",
              "      --fill-color: #1967D2;\n",
              "      --hover-bg-color: #E2EBFA;\n",
              "      --hover-fill-color: #174EA6;\n",
              "      --disabled-fill-color: #AAA;\n",
              "      --disabled-bg-color: #DDD;\n",
              "  }\n",
              "\n",
              "  [theme=dark] .colab-df-quickchart {\n",
              "      --bg-color: #3B4455;\n",
              "      --fill-color: #D2E3FC;\n",
              "      --hover-bg-color: #434B5C;\n",
              "      --hover-fill-color: #FFFFFF;\n",
              "      --disabled-bg-color: #3B4455;\n",
              "      --disabled-fill-color: #666;\n",
              "  }\n",
              "\n",
              "  .colab-df-quickchart {\n",
              "    background-color: var(--bg-color);\n",
              "    border: none;\n",
              "    border-radius: 50%;\n",
              "    cursor: pointer;\n",
              "    display: none;\n",
              "    fill: var(--fill-color);\n",
              "    height: 32px;\n",
              "    padding: 0;\n",
              "    width: 32px;\n",
              "  }\n",
              "\n",
              "  .colab-df-quickchart:hover {\n",
              "    background-color: var(--hover-bg-color);\n",
              "    box-shadow: 0 1px 2px rgba(60, 64, 67, 0.3), 0 1px 3px 1px rgba(60, 64, 67, 0.15);\n",
              "    fill: var(--button-hover-fill-color);\n",
              "  }\n",
              "\n",
              "  .colab-df-quickchart-complete:disabled,\n",
              "  .colab-df-quickchart-complete:disabled:hover {\n",
              "    background-color: var(--disabled-bg-color);\n",
              "    fill: var(--disabled-fill-color);\n",
              "    box-shadow: none;\n",
              "  }\n",
              "\n",
              "  .colab-df-spinner {\n",
              "    border: 2px solid var(--fill-color);\n",
              "    border-color: transparent;\n",
              "    border-bottom-color: var(--fill-color);\n",
              "    animation:\n",
              "      spin 1s steps(1) infinite;\n",
              "  }\n",
              "\n",
              "  @keyframes spin {\n",
              "    0% {\n",
              "      border-color: transparent;\n",
              "      border-bottom-color: var(--fill-color);\n",
              "      border-left-color: var(--fill-color);\n",
              "    }\n",
              "    20% {\n",
              "      border-color: transparent;\n",
              "      border-left-color: var(--fill-color);\n",
              "      border-top-color: var(--fill-color);\n",
              "    }\n",
              "    30% {\n",
              "      border-color: transparent;\n",
              "      border-left-color: var(--fill-color);\n",
              "      border-top-color: var(--fill-color);\n",
              "      border-right-color: var(--fill-color);\n",
              "    }\n",
              "    40% {\n",
              "      border-color: transparent;\n",
              "      border-right-color: var(--fill-color);\n",
              "      border-top-color: var(--fill-color);\n",
              "    }\n",
              "    60% {\n",
              "      border-color: transparent;\n",
              "      border-right-color: var(--fill-color);\n",
              "    }\n",
              "    80% {\n",
              "      border-color: transparent;\n",
              "      border-right-color: var(--fill-color);\n",
              "      border-bottom-color: var(--fill-color);\n",
              "    }\n",
              "    90% {\n",
              "      border-color: transparent;\n",
              "      border-bottom-color: var(--fill-color);\n",
              "    }\n",
              "  }\n",
              "</style>\n",
              "\n",
              "  <script>\n",
              "    async function quickchart(key) {\n",
              "      const quickchartButtonEl =\n",
              "        document.querySelector('#' + key + ' button');\n",
              "      quickchartButtonEl.disabled = true;  // To prevent multiple clicks.\n",
              "      quickchartButtonEl.classList.add('colab-df-spinner');\n",
              "      try {\n",
              "        const charts = await google.colab.kernel.invokeFunction(\n",
              "            'suggestCharts', [key], {});\n",
              "      } catch (error) {\n",
              "        console.error('Error during call to suggestCharts:', error);\n",
              "      }\n",
              "      quickchartButtonEl.classList.remove('colab-df-spinner');\n",
              "      quickchartButtonEl.classList.add('colab-df-quickchart-complete');\n",
              "    }\n",
              "    (() => {\n",
              "      let quickchartButtonEl =\n",
              "        document.querySelector('#df-ba41bd9e-2da3-4619-becb-d0d2911d5cd1 button');\n",
              "      quickchartButtonEl.style.display =\n",
              "        google.colab.kernel.accessAllowed ? 'block' : 'none';\n",
              "    })();\n",
              "  </script>\n",
              "</div>\n",
              "    </div>\n",
              "  </div>\n"
            ]
          },
          "metadata": {},
          "execution_count": 47
        }
      ]
    },
    {
      "cell_type": "code",
      "source": [
        "len(lst5)"
      ],
      "metadata": {
        "colab": {
          "base_uri": "https://localhost:8080/"
        },
        "id": "DcgCrkv8UYMu",
        "outputId": "b89b9fab-997e-45d8-c638-4fb16f0ec335"
      },
      "execution_count": null,
      "outputs": [
        {
          "output_type": "execute_result",
          "data": {
            "text/plain": [
              "30"
            ]
          },
          "metadata": {},
          "execution_count": 48
        }
      ]
    },
    {
      "cell_type": "code",
      "source": [],
      "metadata": {
        "id": "HWACRxGaUYPT"
      },
      "execution_count": null,
      "outputs": []
    },
    {
      "cell_type": "code",
      "source": [
        "len(lst4)"
      ],
      "metadata": {
        "id": "EE6csW3FO5Fp",
        "colab": {
          "base_uri": "https://localhost:8080/"
        },
        "outputId": "090e8947-f88c-41c7-fd4d-c45ed6ab465c"
      },
      "execution_count": null,
      "outputs": [
        {
          "output_type": "execute_result",
          "data": {
            "text/plain": [
              "30"
            ]
          },
          "metadata": {},
          "execution_count": 49
        }
      ]
    },
    {
      "cell_type": "code",
      "source": [
        "len(link4)"
      ],
      "metadata": {
        "id": "Gq-usyUkqc1R",
        "colab": {
          "base_uri": "https://localhost:8080/"
        },
        "outputId": "89d3c81c-5444-4079-d9a9-227430f720df"
      },
      "execution_count": null,
      "outputs": [
        {
          "output_type": "execute_result",
          "data": {
            "text/plain": [
              "30"
            ]
          },
          "metadata": {},
          "execution_count": 50
        }
      ]
    },
    {
      "cell_type": "code",
      "source": [],
      "metadata": {
        "id": "wfhCVA8IOsuy"
      },
      "execution_count": null,
      "outputs": []
    },
    {
      "cell_type": "code",
      "source": [],
      "metadata": {
        "id": "OSZMuTuROsyL"
      },
      "execution_count": null,
      "outputs": []
    },
    {
      "cell_type": "code",
      "source": [],
      "metadata": {
        "id": "BgRVBSOzOs1Y"
      },
      "execution_count": null,
      "outputs": []
    },
    {
      "cell_type": "code",
      "source": [],
      "metadata": {
        "id": "krRndaDXOs4u"
      },
      "execution_count": null,
      "outputs": []
    },
    {
      "cell_type": "code",
      "source": [],
      "metadata": {
        "id": "_DeH_SA9qc4O"
      },
      "execution_count": null,
      "outputs": []
    },
    {
      "cell_type": "code",
      "source": [
        "romanian_sentiment_lexicon = {\n",
        "    'bun': 1,\n",
        "    'frumos': 1,\n",
        "    'fericit': 1,\n",
        "    'bine': 1,\n",
        "    'rău': -1,\n",
        "    'urât': -1,\n",
        "    'trist': -1,\n",
        "    'greu': -1,\n",
        "    'crescut': 1,\n",
        "    'creșter': 1\n",
        "}"
      ],
      "metadata": {
        "id": "P8_NNZM6qc6q"
      },
      "execution_count": null,
      "outputs": []
    },
    {
      "cell_type": "code",
      "source": [
        "pip install nltk.textblob"
      ],
      "metadata": {
        "id": "PljuZ5PVnXvt",
        "colab": {
          "base_uri": "https://localhost:8080/"
        },
        "outputId": "bbf42161-a26e-4dd6-9575-a57d807d9a09"
      },
      "execution_count": null,
      "outputs": [
        {
          "output_type": "stream",
          "name": "stdout",
          "text": [
            "\u001b[31mERROR: Could not find a version that satisfies the requirement nltk.textblob (from versions: none)\u001b[0m\u001b[31m\n",
            "\u001b[0m\u001b[31mERROR: No matching distribution found for nltk.textblob\u001b[0m\u001b[31m\n",
            "\u001b[0m"
          ]
        }
      ]
    },
    {
      "cell_type": "code",
      "source": [
        "article_text = 'Volumul lucrărilor de construcții a crescut, în primele cinci luni, față de perioada similară din 2022, ca serie brută, cu 11,3%, iar ca serie ajustată în funcție de numărul de zile lucrătoare și de sezonalitate, cu 12,3%, arată datele publicate de Institutul Național de Statistică (INS). ”Volumul lucrărilor de construcții, ca serie brută, a crescut, pe total, cu 11,3%. Pe elemente de structură, creșteri au avut loc la lucrările de reparații capitale (+32,5%), lucrările de construcții noi (+11,3%) și la lucrările de întreținere și reparații curente (+4%). Pe obiecte de construcții, au avut loc creșteri la construcțiile inginerești (+31,8%)”, arată datele INS. Volumul lucrărilor de construcții a crescut, ca serie ajustată în funcție de numărul de zile lucrătoare și de sezonalitate, cu 12,3%, creștere evidențiată la lucrările de reparații capitale (+31%), lucrările de construcții noi (+11,7%) și la lucrările de întreținere și reparații curente (+2,6%). Pe obiecte de construcții, creșteri au avut loc la construcțiile inginerești (+30,8%). Clădirile rezidențiale și clădirile nerezidențiale au scăzut cu 1,9%, respectiv cu 1,5%. Mai 2023 comparativ cu aprilie 2023 Volumul lucrărilor de construcții a crescut, ca serie brută, cu 19,9%, creștere evidențiată la lucrările de reparații capitale (+33,6%), lucrările de întreținere și reparații curente (+28,1%) și la lucrările de construcții noi (+15,3%). Pe obiecte de construcții, au avut loc creșteri la construcții inginerești (+23,2%), clădirile nerezidențiale (+21,7%) și la clădirile rezidențiale (+10,8%).Volumul lucrărilor de construcții a crescut, ca serie ajustată în funcție de numărul de zile lucrătoare și de sezonalitate, cu 3,7%, creștere evidențiată la lucrările de întreținere și reparații curente (+10,7%) și la lucrările de reparații capitale (+8,1%). Lucrările de construcții noi au scăzut cu 0,1%. Pe obiecte de construcții, volumul lucrărilor de construcții a crescut la clădirile nerezidențiale (+9,1%), construcțiile inginerești (+2,6%) și la clădirile rezidențiale (+2,4%). Mai 2023 comparativ cu mai 2022 Volumul lucrărilor de construcții ca serie brută a crescut pe total cu 10,7%. Pe elemente de structură, creșteri s-au înregistrat la lucrările de reparații capitale (+41,7%), lucrările de întreținere și reparații curente (+9,1%) și la lucrările de construcții noi (+7,4%). Pe obiecte de construcții, creștere s-a înregistrat la construcțiile ingineresti (+40,5%). Clădirile rezidențiale și clădirile nerezidențiale au scăzut cu 11,9%, respectiv cu 6,9%.Ca serie ajustată în funcție de numărul de zile lucrătoare și de sezonalitate, volumul lucrărilor de construcții a crescut, pe total, cu 11,4%. Pe elemente de structură s-au evidențiat creșteri la lucrările de reparații capitale (+43,2%), lucrările de întreținere și reparații curente (+8,7%) și la lucrările de construcții noi (+7,4%). Pe obiecte de construcții, creștere s-a înregistrat la construcțiile inginerești (+41,7%). Clădirile rezidențiale și clădirile nerezidențiale au scăzut cu 12,0%, respectiv cu 7,3%.'\n",
        "\n",
        "pip install nltk\n",
        "import nltk\n",
        "nltk.download('punkt')\n",
        "nltk.download('averaged_perceptron_tagger')\n",
        "nltk.download('wordnet')\n",
        "nltk.download('stopwords')\n",
        "from nltk.stem.snowball import SnowballStemmer\n",
        "from nltk.tokenize import word_tokenize\n",
        "from nltk.corpus import stopwords\n",
        "import string\n",
        "\n",
        "stemmer = SnowballStemmer('romanian')\n",
        "\n",
        "def preprocess_text(text):\n",
        "    # Tokenize the text\n",
        "    tokens = word_tokenize(text.lower())\n",
        "\n",
        "    # Remove punctuation\n",
        "    table = str.maketrans('', '', string.punctuation)\n",
        "    tokens = [word.translate(table) for word in tokens]\n",
        "\n",
        "    # Remove stopwords and perform stemming\n",
        "    stop_words = set(stopwords.words('romanian'))\n",
        "    tokens = [stemmer.stem(word) for word in tokens if word not in stop_words]\n",
        "\n",
        "    return tokens\n",
        "\n",
        "tokens = preprocess_text(article_text)\n",
        "\n",
        "def calculate_sentiment_score(tokens, sentiment_lexicon):\n",
        "    sentiment_score = 0\n",
        "    for word in tokens:\n",
        "        if word in sentiment_lexicon:\n",
        "            sentiment_score += sentiment_lexicon[word]\n",
        "\n",
        "    return sentiment_score\n",
        "\n",
        "sentiment_score = calculate_sentiment_score(tokens, romanian_sentiment_lexicon)\n",
        "\n",
        "def determine_sentiment(sentiment_score):\n",
        "    if sentiment_score > 0:\n",
        "        return \"Positive\"\n",
        "    elif sentiment_score < 0:\n",
        "        return \"Negative\"\n",
        "    else:\n",
        "        return \"Neutral\"\n",
        "\n",
        "sentiment = determine_sentiment(sentiment_score)\n",
        "\n",
        "print(\"Sentiment Score:\", sentiment_score)\n",
        "print(\"Sentiment:\", sentiment)"
      ],
      "metadata": {
        "id": "k7nf6AypnX0l",
        "colab": {
          "base_uri": "https://localhost:8080/",
          "height": 141
        },
        "outputId": "9bc36c7c-2e58-4b56-9b35-c0ff5fca179e"
      },
      "execution_count": null,
      "outputs": [
        {
          "output_type": "error",
          "ename": "SyntaxError",
          "evalue": "invalid syntax (<ipython-input-53-462e3f60f0a6>, line 3)",
          "traceback": [
            "\u001b[0;36m  File \u001b[0;32m\"<ipython-input-53-462e3f60f0a6>\"\u001b[0;36m, line \u001b[0;32m3\u001b[0m\n\u001b[0;31m    pip install nltk\u001b[0m\n\u001b[0m        ^\u001b[0m\n\u001b[0;31mSyntaxError\u001b[0m\u001b[0;31m:\u001b[0m invalid syntax\n"
          ]
        }
      ]
    },
    {
      "cell_type": "code",
      "source": [
        "nltk.download('wordnet')"
      ],
      "metadata": {
        "id": "l-xhjhXDogAV"
      },
      "execution_count": null,
      "outputs": []
    },
    {
      "cell_type": "code",
      "source": [],
      "metadata": {
        "id": "hhk8ZVM7nzUg"
      },
      "execution_count": null,
      "outputs": []
    },
    {
      "cell_type": "code",
      "source": [],
      "metadata": {
        "id": "gYprGqgooMon"
      },
      "execution_count": null,
      "outputs": []
    }
  ],
  "metadata": {
    "colab": {
      "provenance": [],
      "authorship_tag": "ABX9TyP0R/C/efADOMiv7+oHNXIM",
      "include_colab_link": true
    },
    "kernelspec": {
      "display_name": "Python 3",
      "name": "python3"
    },
    "language_info": {
      "name": "python"
    }
  },
  "nbformat": 4,
  "nbformat_minor": 0
}